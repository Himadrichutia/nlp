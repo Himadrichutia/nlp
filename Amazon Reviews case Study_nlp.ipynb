{
 "cells": [
  {
   "cell_type": "code",
   "execution_count": 1,
   "metadata": {},
   "outputs": [],
   "source": [
    "import pandas as pd\n",
    "import numpy as np\n",
    "import matplotlib.pyplot as plt\n",
    "import os\n",
    "import re\n",
    "\n",
    "# import pandas as pd\n",
    "# import numpy as np\n",
    "#importmatplotlib.pyplot as plt\n",
    "# import os\n",
    "# import re"
   ]
  },
  {
   "cell_type": "code",
   "execution_count": 2,
   "metadata": {},
   "outputs": [],
   "source": [
    "#!pip install nltk"
   ]
  },
  {
   "cell_type": "code",
   "execution_count": 3,
   "metadata": {},
   "outputs": [],
   "source": [
    "#!pip install wordcloud"
   ]
  },
  {
   "cell_type": "code",
   "execution_count": 4,
   "metadata": {},
   "outputs": [],
   "source": [
    "import nltk\n",
    "# import nltk"
   ]
  },
  {
   "cell_type": "code",
   "execution_count": 5,
   "metadata": {},
   "outputs": [],
   "source": [
    "#os.chdir(\"K8 Reviews v0.2.csv\")"
   ]
  },
  {
   "cell_type": "code",
   "execution_count": 6,
   "metadata": {},
   "outputs": [],
   "source": [
    "reviews = pd.read_csv(\"K8 Reviews v0.2.csv\")"
   ]
  },
  {
   "cell_type": "code",
   "execution_count": 7,
   "metadata": {},
   "outputs": [
    {
     "data": {
      "text/html": [
       "<div>\n",
       "<style scoped>\n",
       "    .dataframe tbody tr th:only-of-type {\n",
       "        vertical-align: middle;\n",
       "    }\n",
       "\n",
       "    .dataframe tbody tr th {\n",
       "        vertical-align: top;\n",
       "    }\n",
       "\n",
       "    .dataframe thead th {\n",
       "        text-align: right;\n",
       "    }\n",
       "</style>\n",
       "<table border=\"1\" class=\"dataframe\">\n",
       "  <thead>\n",
       "    <tr style=\"text-align: right;\">\n",
       "      <th></th>\n",
       "      <th>sentiment</th>\n",
       "      <th>review</th>\n",
       "    </tr>\n",
       "  </thead>\n",
       "  <tbody>\n",
       "    <tr>\n",
       "      <th>0</th>\n",
       "      <td>1</td>\n",
       "      <td>Good but need updates and improvements</td>\n",
       "    </tr>\n",
       "    <tr>\n",
       "      <th>1</th>\n",
       "      <td>0</td>\n",
       "      <td>Worst mobile i have bought ever, Battery is dr...</td>\n",
       "    </tr>\n",
       "    <tr>\n",
       "      <th>2</th>\n",
       "      <td>1</td>\n",
       "      <td>when I will get my 10% cash back.... its alrea...</td>\n",
       "    </tr>\n",
       "    <tr>\n",
       "      <th>3</th>\n",
       "      <td>1</td>\n",
       "      <td>Good</td>\n",
       "    </tr>\n",
       "    <tr>\n",
       "      <th>4</th>\n",
       "      <td>0</td>\n",
       "      <td>The worst phone everThey have changed the last...</td>\n",
       "    </tr>\n",
       "  </tbody>\n",
       "</table>\n",
       "</div>"
      ],
      "text/plain": [
       "   sentiment                                             review\n",
       "0          1             Good but need updates and improvements\n",
       "1          0  Worst mobile i have bought ever, Battery is dr...\n",
       "2          1  when I will get my 10% cash back.... its alrea...\n",
       "3          1                                               Good\n",
       "4          0  The worst phone everThey have changed the last..."
      ]
     },
     "execution_count": 7,
     "metadata": {},
     "output_type": "execute_result"
    }
   ],
   "source": [
    "reviews.head()"
   ]
  },
  {
   "cell_type": "code",
   "execution_count": 8,
   "metadata": {},
   "outputs": [],
   "source": [
    "#Dataset is scrapped from Amazon for Lenovo K8 mobile phones\n",
    "# Review in the form of free text was scrapped and the user rating\n",
    "# A user rating of 1,2,3 -> sentiment 0\n",
    "# A user rating of 4 and 5 -> sentiment 1"
   ]
  },
  {
   "cell_type": "code",
   "execution_count": 9,
   "metadata": {},
   "outputs": [
    {
     "data": {
      "text/plain": [
       "(14675, 2)"
      ]
     },
     "execution_count": 9,
     "metadata": {},
     "output_type": "execute_result"
    }
   ],
   "source": [
    "reviews.shape"
   ]
  },
  {
   "cell_type": "code",
   "execution_count": 10,
   "metadata": {},
   "outputs": [
    {
     "data": {
      "text/plain": [
       "0    7712\n",
       "1    6963\n",
       "Name: sentiment, dtype: int64"
      ]
     },
     "execution_count": 10,
     "metadata": {},
     "output_type": "execute_result"
    }
   ],
   "source": [
    "reviews.sentiment.value_counts()"
   ]
  },
  {
   "cell_type": "code",
   "execution_count": 11,
   "metadata": {},
   "outputs": [
    {
     "data": {
      "text/plain": [
       "0    0.52552\n",
       "1    0.47448\n",
       "Name: sentiment, dtype: float64"
      ]
     },
     "execution_count": 11,
     "metadata": {},
     "output_type": "execute_result"
    }
   ],
   "source": [
    "reviews.sentiment.value_counts(normalize=True)"
   ]
  },
  {
   "cell_type": "markdown",
   "metadata": {},
   "source": [
    "Getting insignts from the reviews:\n",
    "\n",
    "        1. Use regular expressions\n",
    "        2. Word cloud\n",
    "        3. Bar graph"
   ]
  },
  {
   "cell_type": "markdown",
   "metadata": {},
   "source": [
    "## Use regular expressions to get insignts about the reviews"
   ]
  },
  {
   "cell_type": "markdown",
   "metadata": {},
   "source": [
    "### 1. Find out the Reviews Which have some numbers followed by the gb"
   ]
  },
  {
   "cell_type": "code",
   "execution_count": 12,
   "metadata": {},
   "outputs": [
    {
     "name": "stdout",
     "output_type": "stream",
     "text": [
      "Nice performance with 4gb RM and 64gb inbuilt memory\n",
      "very bad and when lenovo and moto merged the standard of lenovo went to a worst condition. the 4gb decacore do nothing....dont buy it. very bad.....\n",
      "Very nice looking phone.. Nice build quality... Awesome product ... In this price range it is a best phone... Nice bettory life and fast charging... It has all specifications ... Dual camera... Nice fingerPrint scanner... Awesome work with 4gb/64gb combination... Realy value for money...\n",
      "It gets very hot while using. I was using Lenovo K4 for last one year and was more satisfied with that rather this one @ 13999. Main drawback of this phone arebeautiful_ Cast (screen mirror) doesn't work. Bluetooth is also disturbing. Touch screen is not as sensitive as it should be with 4gb ram and 64 GB internal memory with 10 core processer. Display got broken very early with in two months of use. It's very normal and not as strong as k4. Hand grip is not good. Voice clarity not good and Dolby sound is just normal and speakers are very normal and sound is low. K4 was much better in this regard. Call logs and call recording another big drawback of this phone. I will not recommend this phone for purchase even @ the cost of 10k.\n",
      "This is my 3rd lenovo phone, not worth the money though:1. Poor camera quality - though its a dual camera..2. Little lagging in the games even though its deca core with 4gb ramThe only plus is that it is not a hybrid sim\n",
      "Hi all, I have bought new lenovo k8 note. Frankly speaking lenovo making fool to customer through this product. Just for marketing they have given higher features in this price(like 4gb ram, 64gb ROM, dual camera) but all are of no use. If you buy some other company with lesser feature compared to this you will get much better experience. The most stupid thing lenovo done is very basic features they have removed like led notification is there but it never works except during charging, no call recording, no shortcuts for screen shot. I got alert saying low. Battery and 15% was there then automatically switched off immediately.These feedback by just exploring little, let me explore more than i ll share with more feedback\n",
      "Great phone, with the stock Android it's the smoothest phone that I have used till date. The built quality is also descent and the front and rear cameras perform good. This phone is for heavy users like me . And the 4000 mAh battery is good enough for a full day's work. If you are looking for a phone that is all rounder in this range, the k8 note is always a great option. One thing that i left out is the sound quality which is good being backed by dolby Atmos . This 4gb ram varient is very good. Although the 3gb ram varient has some issues . But this one is completely fine.\n",
      "Heating issue and speed not like 4gb ram\n",
      "internal memory was showing 64gb but in file manager its showing 51gbheating problem also\n",
      "Battery backup is very worst.....Really am very disappointed for this phone ......Memory for 4gb ram and 64gb internal memory and separate memory card slot is good.....All specifications r good except battery ....\n",
      "I bought this product from a flash sale on Amazon in August 2018. It's been just 7 months and this 13999 mobile with 4gb ram behaving like some cheap product it switch off automatically 8-10 times a day. Twice I have been to the service center but the problem persist. They say it's ok now and I face the same problem the very same day. Now I m trying to get it exchange with any other phone and I m getting 2700 offer from Amazon. Wow\n",
      "This phone doesnt feel like a 4000mah phone. Even my lenovo vibe k5 note gave better backup than k8 note.The ram doesnt feel like a 4gb ram either. Even when you dont have any apps running, the ram usage is high.Price wise this is decent. But there the specs on paper and the performance dont match up with each other.Unless lenovo optimise the performance and send in an update, my recommendation would be \"Dont Buy\"\n",
      "I purchase this phone after many researches.camera is best at this price point.battery FHD display is good.almost everything is fine.but some cons. Are there also.usable memory is less than half of 32gb.phone takes a lot of time to start.except this the phone is best and really a killer note.\n",
      "Nice. Fine performance. 4gb ram and 64 gb storage performance fabules.\n",
      "Phone ok..Pros4gb ram 64gb internal space both camera s are also good..selfie with flashConsDifficult to get tempered glass 2.5d screenBrightness is little lessBluetooth play back music stucks if we use multiple apps same time also mobile data onSome moments phone hangs so i restart it..Ear piece volume for calling is less specialy if outdoor its difficult to hear..Phone is ok..\n",
      "Lenovo k8 note 4gb ram is not working properly, data downloading and uploading is very slow comparing to moto c plus 2gb ram peace is very good. at the time calling speakers are not good working, I am unsatisfied with this device Lenovo K8 note 4gb ram\n",
      "As of 29/08/17 I paid 13999/ that too on line with hell lot of buying pressure, now it is offered with discount of 1000/ and 2000/ on 3gb and 4 GB respectively,Its not even that worth you opt for xiomi or redmi but not this phone.\n",
      "Been using it since 2days.What you get for 13k am gonna share,sincei got the 32gb/3gb variant which is enough for my usage.Looks are good sleek and slim not wide like redmi note 3/4.Venom black is good quite contrasting. can't say about other variant.Battery is moderate for 4000mah you have to charge twice if your heavy user. Yes turbo charging does work.But standby could have been better. As you have got power you gotta compromise somewhere. if it could have paired with SD 625 battery would have been promising but can't do anything now.Hardware aspect now,10 core power yes you do feel if your SD 625 user,as I was i felt it faster.Only issue i would like lenovo to improve it ram optimisation,i know it need software update or something for betterment in this aspect,i only hope lenovo delivers it fast enough because with usual 50 apps installed you will get 50-60% utelisation,in SD 625 it was somewhat lower to 45-50%. Rest you won't feel any lag or something,it just need an software update.Now focus point of these smartphone,cameras. Lets talk about the front 1st,its decent enough for selfie but not meant for poor lighting condition. in good light you will get good pics.Now Rear,13+5 normal camera works good. Also during in depth which means both lenses will be active you get some shot like slr,good innovation for budget phone but same like ram it need software updates for optimum utelisation.i love stock android,and i loved this was of stock android,though i did miss the menu button no issue its just fine replacement.I would say,for the price segment the pros are too good to let you buy one. So go for it.only issues or cons are with software,lets hope lenevo releases new patches frequently taking in mind of the users and reveiwers.And Yes Corning + 2.5D glass works like charm. kuddos lenovo.Thanks.p.s-hope lenovo checks the reviewers,to improve their product....UPDATE:AFTER 20DAYSFacing a severe issue,while kept phone for idle about 1hr or more everything works fine just,text messages you send are not being delivered,again you have to power off and turn on for it to deliver. Why the heck is that?Also the last patch update was on JULY 5TH 2017,Please kindly deliver a update soon. Today is 10sept 2017 more than 2months have passed. Kindly fix.This made me think about my choice i made on lenovo.\n",
      "Extremely unsatisfied with Lenovo k8 note 64gb Battery consumption in 6 hrs and saying 4000mah!!!, turbo recharge takes more than one hour not minutes as said!!! Rare camera is very bad, never could be 13 mpixel Network is bad in the mobile, never due to the area or Telecom company. Heating issue as well. There could be extra issues in soon future.\n",
      "Absolutely amazing got 3gb varient no issue in handling any kind of game in high graphics good battery best camera(as my opinion)no heating issue.....but....slightly disappionted by display the color production is not good enough and also the display has a little yellow tint which makes white slightly yellowish(not noticeable until other phones is brought near)...and i wish lenovo will fix the ram management issue with providing android oreo update....but phone is awesome in all othet factors...\n",
      "I have purchased third Lenovo handset, prior to this I'm currently using lenovo k4 note. K8 is at par with K4..3gb ram version stands at par with K4 note which was released 1 year ago..phone is gud at luks and performance. Lenovo has a patent problem of heating with all its premium to low class devices & as expected it persisted with this handset as well.\n",
      "My review after 1 week use of this phone.heating problemcharging super fastback camera patriod mode not availablefront camera is goodbattery will last for 3 to 4 hours in continue gaminggetting hang when i use for 3-4 hours continouslyheating is main problem im facing right now..its get so much heat..we get only 22gb free internal storage out 32 gb and that is not good for me\n",
      "This mobile is good in terms of battery life (2days), camera quality, turbo charging (full charge in 1hr). This mobile has finger print sensor lock and 4gb RAM , Free of hanging.\n",
      "Nice product from Lenovo.Everythings good, shall share the bads - heating issue is there with phone, gets slow on extensive usage, doesn't feel like working on 4gb ram machine, good for soft use.\n",
      "Very good deal & value for money. Working smooth even in 3gb ram. Only reason for not giving 5 star bcoz it is not coming with earphone\n",
      "its a honest review...dont buy this bcz its a waste of money nothing...some major problem1.vedeo quality very poor2.camera focus very poor3.flash quality just ok4.heating lot while charging5.some frame drop on 3gb variant while playing game6.battery draing very fasteither the phone quality bad or the amazon has delivered a damage product..n ya dont buy any product from amazone vry poor service..u will face lot problem while returning u might not able to return even.so go for other or from offline..bcz am facing the problem now\n",
      "This phone no 64gb 51gb only and over heating very bad\n",
      "Don't buy this phone go for redmi or other brands .. it doesn't performs like 4gb ram and a deca core processor .. lags most of the time after Android 8.0 update... And the main advantage is u can boil rice using Lenovo k8 noteInstructions : play a video , wait for 30 seconds , keep the rice cooker above k8 note .. rice will b ready in 10 minExtra advantage : for survival purpose u can throw at someone to break their heads .. cause it weighs 10 kg ..sound effects r worst in it's class .. selfie camera it's like iPhone 3gsOverheating issues .. battery s not charging 20 percent even if I turn of the phone never charge .. battery drains quickly I'm having only stock Android apps along with whatsapp .was good only for 2 months ..PEOPLE PLEASE DON GET CHEATED BY THIS PHONE'S SPECS .IT DOESN'T PERFORM LIKE ONE .. I'm using redmi 5 2gb variantI would honestly say redmi is way more better than LenovoThis will be my last product from Lenovo .\n",
      "Performance is not good. I heard that 4gb handset is better than 3gb handset. But even this one is same. Also, one of the speakers is not working.\n",
      "Well, yeah my brother bought it not less than a month ago from amazon itself.. And it explode not while charging or so but while kept in a pocket.. He bought its 4gb model.. None of it matters now..Lenovo service support is pathetic even after five days now.. They are still finding their executive to talk with us on our written complaint forget about phone i am much worried about my brother's health. His leg got severe burns.I am sharing the photos and my review so that people can be aware of it. And one more thing no matter how good is your phone avoid keeping it in your pockets..\n",
      "Running great. According to budget it is the best phone. It has 64 gb internal space and 4gb ram which satisfied me.\n",
      "4gb 64 gb Wala phone bhi hang ho rha hai\n",
      "Pros..Battery backup is good, turbo charger charges very quickly, finger print scanner is awesome.Cons...Rear camera quality is not good, little bit heavy for one hand users. Takes time to search contacts (sometimes lagging), 4gb ram is not very impressive. Back cover quality is cheap. Have only one speaker which is not so good for music lovers (but in earphones good sound quality) . Heats up during games and long uses on net.\n",
      "Only internal memory & 4gb ram is ok for this product. Video player and gallery not given inbuilt.you have to download app for this. Rear double Camera not good as described. Compare to Keno vibe k4 note,this product has only one benefit & that is 64gb internal memory & 4gb ram.\n",
      "My sincere suggestion is plz dnt buy dis phn, although im using dis mobile from 2 months nd i was using previously lenovo k 4 is btr than dis.It cause heating prblm no battery backup first one month it was very gud nw its showing prblm like hanging nd automatically.Im nt knwing y dis phn vll automatically vll gt restart by its own ?????Plz if u dnt believe my suggestion its waste fa u caz im facing d prblmPls buy am other mobileIf v switch off dis mobile it vll take more than 3/4 mins to start again.Even its ram was 4gb it vll behave like 3gb ram processor was Deca-core its waste plz plz my suggestion is clear if u understand my prblmIf it vll help other means i vll b very thankful do dem\n",
      "It's very nice to handleCamera is very goodInternal storage is 64gb\n",
      "Very bad camera Quality with this price range , front camera capturing only mirror image.Plz don't buy to see it's deca core processor and 4gb ram & 64 gb rom features if you want good photography mobile.\n",
      "Though, the phone is having 3 GB ram the dialogue box occurs showing not responding in some apps.Sometimes the apps get hanged.These problems I am facing since 2 days.I got the phone 4 days ago.Ihave other Lenovo phone which has 3 GB ram and 16gb internal storage ,the phone doesn't have this problem.\n",
      "HD display, along with free cover, deca core, 4gb ram, dual camera, selfie flash, separate sd card slot along with dual SIM and of course 5.5 inches... Complete package in this cost.\n",
      "Average battery, barely goes over a day. Ui is smooth and very fluid, a bit heavy to hold. Camera fails to start, but when it does its average, depth mode is a scam! Any third party app can do that better. Even Dolby Atmos sounds gimmicky. Apps load quick but dosent stay in the memory. Out of 4GB, after 3 weeks and some basic apps, I'm getting around 1gb free. Poor app management. I wish I could get a refund. Had high hopes from a company like lenovo.\n",
      "Mobile Lenovo k8 note 4gb ram , is the best Mobile in low price .all fiture is good.\n",
      "This is the first time I am reviewing a mobile as I wanted to help the others before buying this phone. This phone is good for a budget of 14k, I have bought 64gb, 4gb ram model. After a week usage I see the Ram speed, browsing net, switching to different apps is really fast. No doubt the interface on Android ver7, it's a great user experience. But there is a major problem with the battery as plenty of them have mentioned on their comments. Lenovo claims it is turbo charging but it takes minimum of 2 hours to charge or sometimes it varies,, close to 3 hours as well. Battery draining quickly is a terrible product defect. I have an issue when the battery indicator level comes to 15%, it goes to 2% in less than 3 minutes and it shuts down. I have highlighted the issue with a video evidence to Amazon and fighting for a replacement of phone or refund, not sure if the same battery issue repeats to my replacement phone as well. I am also planning to post a video of this issue in YouTube. In general a 4000 mah capacity battery should stand for at least 2 days with a minimum usage or 1.5 days with a decent usage, but seeing the comments from most of buyers, I think this is a manufacturing defect and lenovo should really see this issue, get it addressed immediately. If you ask my opinion, wait for few days, revisit the new comments posted by the buyers and once the battery issue stands resolved, then go for it. End of the day what's the point of buying a mobile with a battery issues? it's like buying a vehicle with fuel injection issues,, it will not last long!\n",
      "Price Range very high .. 13999.. big billion day price 11999Body , design very cheap complete plastic feel like 8 8000 price phone , heating issue face , camera quality low , .. only great 4gb ram , 64 gb storage , 10 octcore process .. other wise this mobile correct price 9000 to 10000 max\n",
      "I brought a Lenovo K8 Note (Fine Gold 64 gb n 4gb ram) but I am totally disappointed after purchase this product, as this product is not up to the marks, if we thinking about Lenovo products...My Lenovo mobile screen is cracked just after 2 days of purchase and I can't believe it's screen is cracked/broken while dwon at floor just from 1/2 feet of height.What is purpose of gorilla glass that is claimed by Lenovo because either it is not a original gorilla glass or Lenovo making fool to thier customerI am tried to call Lenovo customer case/service center and as per them new screen cost is 40%of the MRP. I.e. approx 6000.Other disappointed things seems in Lenovo K8 Note it is over heating problem and also it's heat when pH is charging. That's very bad thing for LenovoDull screen, weak networkDolby audio is only strategy by Lenovo for selling purposes\n",
      "Truly I don't find any cons in this phone. 64gb helps a lot in installing apps which will stay in phone memory. Good ram that I can see the apps still stand even if I open it on the next day. Camera is amazing. Depth mode is good. Selfie is bad. The picture quality is not good. Very bad when front flash is on. Battery backup is very good. Turbo charging working very well.\n",
      "Killer note, but it is only killing me. Frustrated and highly disappointed. I am writing this after 2 month usage, nothing great to tell about the phone. Just an another note serious from Lenova, the specification looks great on paper and in reality everything sucks.It gets heated up even for normal usage, the battery drains faster than normal mobiles, it is not a 4000mah battery for sure.The camera looks good not better. Don't zoom it while taking long shots. Th picture quality is not up to the mark.It does not behave like 4gb ram, it rather responds like 2gb ram and gets jammed frequently.I have installed many apps and after getting the phone slowed down, I have removed most of the aps.Guys, the price was reduced but still, you shall go for a better brands like Moto, mi, Samsung.\n",
      "Best mobile at this price. With finger sensor , 4gb ram 64 gb memory 5.5 inch and stylish\n",
      "heating problem ..after sometime ram not work proper it seems that u using 3gb ram...\n",
      "Product is good but its battery back not well as it's have 4000mah. after that its start hanging when you play any game on it. its have 4gb Ram.\n",
      "Not good camera quality is good internal only 51gb battery is decreasing so much\n",
      "Phone is good but battery backup very bad and heating problem, if you want buy this phone go to 4gb ram because it's use more than 2 gb ram and 3 gb verient useable ram is 2.7gb.cemera not very good but average. otherwise all is good\n",
      "Great experience with this amazing product from Lenovo.it is equipped with almost every features that a smartphone would require.decacore processor,long lasting battery and 64 kB internal memory with 4gb ram is just awesome.i would certainly recommend this phone for users having heving usage and game lovers.\n",
      "My opinion after using phone .. pros:- turbo feature, 4000 mah battry, 13 mp camera , dual camera setup, fingerprint is too fast , processor is very very fast........... cons:- battry backup is bad , rear camera is too bad and weight is too heavy ...... In 64 gb storage u will get only 50gb which is so bad .....\n",
      "Its the most useless phone of the century, neither the keypad nor the charger works perfectly. Phone hangs up frequently even it has 4gb RAM. The turbo charging mode takes longer time than normal. Don't understand why lenovo made such a stupid device. A6000 series was far better than this\n",
      "In this price range its really killer but some things like front camera and Ui were better even in the k4 note ...Pros-* fast processor* turbo charging* lots of ram I.e. 4gb* good sound quality*big battery* metal unibodyCons-* no super battery saver mode* bad UI* front camera quality is not as expected\n",
      "Great phoneI bought this phone as a gift for my wifeGreat for this priceAmazing speed, no complaints , go for itBest mobile with all features 4gb , 64,gb, 2.3 ghz processor plus 4000 mah battery capacity\n",
      "ProsNear Stock Android with Motorola UI launcherDolby Atmos sound4gb ram5.5\" displayConsThe buttons are not backlit and swapped. Back button on left and recent apps on right.Call recording is disabled and none of the call recorder works.The phone feel's a bit heavy.The dual camera is not that good\n",
      "My real experience..1 GUD PROCESSOR (NO HANG NO INTRUPTED GAMING EXPERIENCE) LOVED IT2 Gud night camera (I compared it from other phones and took pics In a black room) nic shot I believe3 some. Features still. Miss in this phones (no show up of. Battery %, internet speed) for this u have to download application.. But fine I have downloaded.. Works great4 gaming experience (asphalt 8 almost 2gb game with high graphics.. There is no hang in it even also when I play clash of Clans and asphalt 8 simultaneously by minimising one downBest choice for this Range price..\n",
      "The screen glass not as tough ... I use an IPhone and an K4 note on android befor this K8 and this one got two deep gashes on screen with normal usage of keeping it in the pocket .. K4 screen was much durable than this ... u better buy a screen guard along with this phone ... it take longer to access files and photos when u put in 128gb card .. also startup time lags after u download a few apps etc ... not worth K8 should increase quality than K4 but in this phone it's reverse ... looking forward to my experience at service centre will post it later\n",
      "I purchased before 6 months problem occurs repeated, - overheating, sim2 port issues, software issues than lot under warrantyLenovo k8 note (4gb ram, 64gb ROM)\n",
      "Its nice mobile. I need exchange my redmi4 mobile 3gd/32gb. Purchased 3 month. Expect more money\n",
      "Guys I brought this lenovo ki note with 4g +64gb in this Jan'18, this model is very very worst in terms of quality , even screen has broken with simple low high fall even though it's gorilla glass 3, sensor problem,hanging prblmGuys this is my real experienced review...All the best..\n",
      "The product is good fast working I ordered this diwali and come on Laxmi puja most awaited for me 4gb ram, good camera quality, 10 core prosser, sounds quality dollby good...\n",
      "I just loved this product , huge inbuilt storage, 4gb ram , the only phone with deca core processor, work really faster, high quality display & sound. Light weighted. Just love Lenovo\n",
      "it seams a good device on paper but not as good which is expectedprossd card dedicated slotmedia buttongood front cam with flashgood built (not that much but good)stock android (no bloat ware )Good displayfast finger print scannerconsheavy (180g)Dolby atoms( not good out put the volume is very low for earphones even you can hear a person speaking loud )speaker volume (low it looks like two speakers but it has only one, another one is microphone)camera ( color reproduction is bad ,not 4k video recording ,no slow motion,fake dual camera better to use photo app to create bokeh effect,no edge detection by the camera ) can be fixed with software updatepoor ram management (if you switch between some recent apps it will reload them but still shows 2gb memory consumed (ram) )Battery (poor battery life not full day with heavy usage (battery graph shows most battery consumed by OS )even standby also consume battery up-to 10% , fast charging is also not that good )this is what i feel after 1 month use and still waiting for update to fix the issues hope Lenovo will release update soon just like Nokiai have also tried it to return after 3 days as i don't feel satisfied with the product by amazon didn't returned it to thing twice before you buy\n",
      "Using for 9 months, excellent phone and superb quality and great features like 4gb and 64gb and 2.3ghz and dual rear camera and selfie 13 mp ...Overall I can say it's an outstanding mobile\n",
      "Lenovo k8 noteGood mobile in budget.4gb ram 64 gb storageDual camera with flash on both front &back.Turbo charger giving a low time for charging.\n",
      "Been using this device for last 90 days or so and here are my findings about it.Cons:1. Rear Camera Perfomance is Average, even with the patch update, the photos feel average, the Bokeh Effect is absolutely below par,2. Battery Life is below average, despite being a 4000mAh , the device does not last a 1 day, even on medium usage, the phone idle and screen it self consumes half the power. The recent update made the battery life worse.3. Despite having a fingerprint scanner, it does not have native app lock feature, and we have to download a third party app for locking apps.4. Memory management is not up to the mark. On first boot, out of 3gb, only about 1.2 gb was free, despite being a stock android, it has a heavy memory footprint despite not having any apps installed.5. Signal reception even on strong coverage areas is poor, tested with Idea/Jio/Vodafone all show very weak signal strength, my other honor device has no issues picking up signal at the same locations.6. Turbo charger failed to live up to it's potential after the recent November update, the device takes more then 110-130 minutes to fully charge,WORTHWHILE to note, all the above problems could be solved via better OTA updates but lenovo does have a strong update policy because of which earlier devices performed poorly after launchPRO's:1. Great Build Quality, device feels very premium thanks to the series 6000 Aluminium Build,2. Stock Android OS offers up a lag free operation,3. Dolby Sound is a very good offering, even without stereo speakers, the device outs good audio,4. the Front Camera with Flash is a good feature and the camera does perform well,\n",
      "Not feeling like 4gb ram\n",
      "Normal speed with 4gb ram, over all normal function s and not available call recording\n",
      "This is an unsung hero !4gbram64gb internal strg.5.5\" fhd screen with edge curved gorilla glassTheatermax tech. Inbuild10 processor! WOW deacaaaa!!!!!13mp frnt cam is OOOOOOOOZAM!13+5 rear dual2sim slot + dedicated sdcard slot (upto128)Fingerprint scannerDOLBY ATMOS!😍4000mah battery with turbo fast charging!I BET NO PHONE CAN BEAT THIS KING in this price, these specifications, and build quality!#savage!\n",
      "1) Heating issue2) Notification lead works only when fone being charged.3) takes 4+ hrs to charge4) battery drains quickly, Lenovo k8 drains faster then Samsung on nxt which has 3.3k battery backup.5) if you download hd videos then to it displays very poorly.6) Downloading on this phone is disaster even with the best of 4g network.7) Camera quality not that great as quoted. Depth mode sucks.8) The worst part there's no Gallery in this phone so all your photos/Videos end up in Google storage which is limited to 15gb including emails.8) Non lit keys.9) only 1 speaker which on bottom10) Like old Motorola handset iske key bhi ulte hai..where on phones back key was on right on Lenovo k8 it's on left so it's quite irritating bcoz that's not what you see on any Android fones\n",
      "compare to k8 note (3gb ram) this one is better\n",
      "Friends don't buy this phone.Full Charging down by the one hour.This is not lenovo phone .It's Motorola version Motorola phone.I am lenovo mobile fan.I purchase 6000,6000 plus,k4 note,k6 note.But this phone is worsttttt.....Please change my phone (Amazon) services 9642783920 I want to k6 note 64gb 4gb\n",
      "Best smartphone and affordable priceIn 4gb ram, camera are so good etc.\n",
      "I am request to all indian people this is so bad mobil its battery life is maximum time is 3 hour and no more than.. After when charge mobil in charging time is 3 to 4 hour mobil is heating mobil space comany and amazon say 64gb and mobil application check of amoson say 54gb so this mobil is so dull never buy\n",
      "Not good mobile phone. I buy this phone. But I saw 2gb ram also use in divice. No other future in divice. No gallary. Not fast charging. 100°/; charging time is 3hr. Redmi note 4 is good phone then lenovo k8 note. Midiatek processor is too poor.\n",
      "Bad phone... Very bad.. i would not recommend u to buy this sh*t.... Battry drains out very quickly.. turbo charger do not work sometimes.. depth sensor is very bad.. worst ram management... Major lags sometimes... Build quality is good but everything else is bad in this phone... 1 bought it for 13000 ..thr 3gb model.. the day i recieved this phone... The price falls and now it 12000.. i m very dissapointed ... And they didnt replaced my phone.. when i was trying to replace it... Because the phone is very bad\n",
      "PoorUi is very bad it always crashes4gb ram only for publicityDevelopers not fixing bugsBoot loop bugUi is not customised for hardwarePoor updates\n",
      "Lenovo k8 note is a good device but it's not a perfect one.The first problem which I faced is it's overheating and it's ram management.Hardly 2gb is available for our usage.But the main attraction of this phone is it's camera.\n",
      "Guys am just loving this device....It's display is so cool. And cameras they are awesome at this price. You can do a slow motion, peranoma etc with those rear cameras. Was using Lenovo K5 note now upgraded to this one. It's way to better. Go for it guys. 4gbram with 64gb internal makes it a beast\n"
     ]
    }
   ],
   "source": [
    "count=0\n",
    "for review in reviews.review.values:\n",
    "    review = review.strip()\n",
    "    result = re.search(\"\\d+gb\",review)\n",
    "    if result:\n",
    "        print(review)\n",
    "        count+=1"
   ]
  },
  {
   "cell_type": "code",
   "execution_count": 13,
   "metadata": {},
   "outputs": [
    {
     "name": "stdout",
     "output_type": "stream",
     "text": [
      "81\n"
     ]
    }
   ],
   "source": [
    "print(count)"
   ]
  },
  {
   "cell_type": "code",
   "execution_count": 14,
   "metadata": {},
   "outputs": [],
   "source": [
    "#2. Find out the Reviews Which have some numbers followed by the /-"
   ]
  },
  {
   "cell_type": "code",
   "execution_count": 15,
   "metadata": {},
   "outputs": [
    {
     "name": "stdout",
     "output_type": "stream",
     "text": [
      "Firstly product not delivered on time dissatisfied 2 weeks.Secondly Android 7.1.1 naugat doesn't have call recording optionThirdly when selling product cost was 13999/- now why drastically dropped. 10999/-Fourthly when talking over the phone feels like nerve pulling to much radiation need immediate fix on this matter as it's safety and security of customer.Fifthly if any issues in hardware issues please let us know the service centers location. And please ensure hardware availability should be there at any time when customers booked.Finally as discribed about product all features are ok no issues found as mentioned earlier if call recording option would have added the this product would have been met the expectations.Camera quality is good not bad snap attached.\n",
      "Bad quality of screen.Mobile was just fall from 1 ft. of height & screen was brokenCustomer care of Lenovo Jabalpur (MP) is not responding regarding the replacement of screen even on paid service basis. I have deposited Rs. 4200/- for screen replacement on 08 September 2017 and today its 26/09/2017, still I did not get my spare parts & screen still not changed due to casual approach of servicing team.BAD EXPERIENCE\n",
      "have been a Lenovo fan , but this K8 note is not a great phone in terms of comfort of handling....It is very slippery and does not fit into our hands...Screen replacement costs Rs.5500/- for a phone of 14k.... Battery life is better but not as per the claims...UI is good.. bought this for me and redmi note 4for my wife....looks redmi note4 scores hands down\n",
      "You will not regret after buying this smartphone. Everything is superb on this phone at this price point, I bought it 12999/- but now at 11k its a loot...\n",
      "it's amazing...but when I buy after Very next day the price of the phone falls down by Rs. 1000/-the phone network is very poori have to struggle with sim card & phone reset after a month I send it to service center they take one month for replacing a network cable (Antena Cable) but still, I face the problem of the network..Brokaw effect not properly work.I m dissatisfied with Lenovo service center & Care officer.\n",
      "Good Phone. But the offer of Rs 343/- with Idea is not working. Idea team is telling Handset Lenovo K8 Note is not supporting this offer.\n",
      "Got delivery on 2nd Oct. Earlier the mentioned. Trying to get used to the handling. Putting in ear phone jack is a pain. Feel a bit cheated as bought it for 13999/- n price was slashed to 11999/- on 4th Oct. No heating issue. Over all a good buy.\n",
      "I don't know? after purchase of that mobile next day it's price is reduced 1000/- RS .So I wanted to return that mobile.\n",
      "Handset is looking good. Camera is not so good its ok. Battery backup very poor ya I know there is big big ram latest processor but it's too much drain fast while I am just whats app chatting. And turbo charger is very slow it look like ordinary charger. For 50% it's took 5 hours. And one more thing I don't have any kind of game or i m not playing it online but battery drain more than expectations. Its not worth price. It is best for ₹ 8000/- max ₹ 10999\n",
      "its ok ok since after a period of six month this phone has stopped working. After six month mobile stopped working while it was charging but centre asking for repair of this mobile @Rs.12000/- as they opened the phone at the centre without our presence and they told us that it has been damaged duty to water. But I m 100% sure this is false and fabricated and centre making money by levelling anything whatever they want by any means to make money. This is harassment of customers of Amazon and in future I will not by electronics gazzets through Amazon in fact now I will prefer to buy physically through store so that they will repair it. All online buyers getting harassed by these service centre.\n",
      "It's a average quality phone . Don't buy this with price 14000/-Bluetooth and SHAREit connectivity problem occur in my device.after restore factory,software reset and update software the problem is same it could not rectify. 1 no speaker is working from first day of purchase.Camara quality is too poor. No suggestions to purchase this product.\n",
      "Worst ever experience. Built quality very poor. All hammer test videos are fake. My phone just fell on sceen side that too while taking it off from pocket on ground and screen is crushed. Worst ever phone. Don't buy. Mobile work Rs.12,000/- and screen not covered under warranty and are charging 7200/- in service center. Don't by Lenovo k8note\n",
      "Third class phone. I bought this phone Rs 13999/- because of its dual camera. Camera is too poor even my old intex aqua power HD phone has good camera. In low light condition this phone capture low quality photos/videos. Approx 200g weight too heavy. Battery is 3900 mAh but sucks in 8-10 hours. Only good thing is large phone storage.Dont buy at all\n",
      "Turbo charging stopped working with the in - box charger 10days after buying..First gave 4 stars to this,but now i would have given 0 star if it existed..I wouldn't have bought the phone if it wasn't for turbo charger..Not only this,there are still many cons..like CAST option doesn't work ..But this is a major problem..And the service is worst..The charger didn't work for the second time and the service centre wierdos lied that the warranty period for the charger is over and asked to pay RS 1500/- for the new one..and know what..? The charger still has 6 months warranty left..!! Selling phones by making false statements..LENOVO sucks..\n",
      "Got the same phone from flipkart at 8540/- plus they have given me 10% discount on HDFC card.\n",
      "After my purchase the cost was reduced by Rs.2000/- Loss of Rs.2000/- for me.\n",
      "not good doot buy it . its good if its price will be between rs 3000/- to 5000/-.\n",
      "Purchased this on first day. No difference in Moto and Lenovo.Now price has come down and reduced 3000/- . Will lenovo give back the money.Feels Got cheated with Lenovo\n",
      "Do you know, the amazon.in exchange value for this mobile bought 4 months before from amazon.in is 1603/- MRP 13999/-DON'T WORRY LENOVO, I'LL AWARD YOU THE WORST OF ALL 2017 AWARD FOR YOUR KG KNOWLEDGE INNOVATION, EVEN THAT FAILED.This is to Lenovo & Team, may the rest to know about Lenovo.This is my ever first product of Lenovo bought on the very first sale, I regret for that and this is my last product of Lenovo.The device has decta core (10) but performance wise it's quad core, may be less but sure not more.It has software issues, frequently shows crash error which irritates users to the peak. \"Process system isn't responding\"Bluetooth distracts, many have raised this issue in Lenovo forum but nothing useful from Lenovo & Team ( better concentrate your engineering team before releasing every product), Users are not your beta testers. One user provided the solution which seems to be work good but nothing by lenovo ( your service & quality proves here ).Wifi Hotspot the most hot issue raised by several users in the forum but the reply from Lenovo says out team couldn't duplicate the issue please do post us the info. Even when millions of data given nothing is going to happen. One user gave the solution which isn't applicable to all.Camera updates isn't good, too bad. Worthless to have these much of MegaPixels as hardware alone.BETTER REVIEW YOUR PRODUCT BEFORE RELEASING IN TO THE MARKET, HATE LENOVO.I definitely swear not to recommend your product anytime.\n",
      "front glass broken just fall down 1 feet height to flat surface. its not Having Gorilla glass.other model mobile having durability.When asking to replace on service center they asked Rs 7000/- for front glass replacement. Its a Half of Price of Mobile.its very bad.\n",
      "K8 Note is best in price Range. I got this for 12000/- during Diwali Sale, and I am simply amazed by the performance. Camera Clarity, Device Speed, Looks, display everything.\n",
      "Unhappy with Amazon fake promotional offer , Marketing schemes and dual beahaviour in customer handlingPros:1. Turbo charging2. Touch is scratch resistanceCons:1. You will not get a headphone in the package.2. Amazon promised to give Motorola sports headphone in Rs: 699/- but at the time of purchase I was unable to get one. Later Amazon denied this offer.3. Phone is bulky.4. Dual Camera functionality is hidden and not ui friendly.5. Speaker's Sound is noisy.6. Battery discharge faster than expected7. Both sim not running 4g at a time\n",
      "First of all no other phone in this price have cameras (both primary and secondary)better than this phone . With a mediatek's deca core chipset it's quite faster in multiple operations but ya it drains battery faster in compare to snapdragon . But it can be managed though company's software update.Secondly it's really tougher in term of built quality .It have a nanocoting protection for water resistivity , it can even work after bent and it also have a Gorilla glass protection.All these features are available in just 13,000/- which are missing in xiomi note4, honor etc lying in same price range.\n",
      "Superb mobile for 11000/- but software issue. Can't use some applications.\n",
      "Flipkart is giving at Rs.11,000/-\n",
      "It's been 20 days since I am using this phone. Great performance. But Don't look for this as a camera phone and yes it is bit heavy but that's okay. Fingerprint works smooth and fast, speakers are awesome, Dolby sound is a plus, 4 GB ram makes it super smooth and fast,screen display is perfect with actual colors, go for it at rs 12,000/- (discount price). Time to se how long it lasts.\n",
      "Immediately after purchasing this product the price is reduced by Rs. 2000/-. Feeling unlucky with my purchase. Also Lenovo claims fast charging. But charging is very slow. Camera quality is ok. Product heats a lot while gaming and charging.\n",
      "Good Phone, awesome camera and features for this price, i got it for 12999-10%(1300)=11700/-\n"
     ]
    }
   ],
   "source": [
    "count=0\n",
    "for review in reviews.review.values:\n",
    "    review = review.strip()\n",
    "    result = re.search(\"\\d+/-\",review)\n",
    "    if result:\n",
    "        print(review)\n",
    "        count+=1"
   ]
  },
  {
   "cell_type": "code",
   "execution_count": 16,
   "metadata": {},
   "outputs": [
    {
     "name": "stdout",
     "output_type": "stream",
     "text": [
      "28\n"
     ]
    }
   ],
   "source": [
    "print(count)"
   ]
  },
  {
   "cell_type": "markdown",
   "metadata": {},
   "source": [
    "## Get the word cloud:\n",
    "\n",
    "    1. combine all the reviews into a single string\n",
    "    2. instantiate word cloud\n",
    "    3. generate the word cloud on the instance"
   ]
  },
  {
   "cell_type": "code",
   "execution_count": 17,
   "metadata": {},
   "outputs": [],
   "source": [
    "from wordcloud import WordCloud\n",
    "# from wordcloud import WordCloud"
   ]
  },
  {
   "cell_type": "code",
   "execution_count": 18,
   "metadata": {},
   "outputs": [],
   "source": [
    "reviews_combined = \" \".join(reviews.review.values)\n",
    "#reviews_combined = \" \".join(reviews.review.values)"
   ]
  },
  {
   "cell_type": "code",
   "execution_count": 19,
   "metadata": {},
   "outputs": [
    {
     "data": {
      "text/plain": [
       "'A B C'"
      ]
     },
     "execution_count": 19,
     "metadata": {},
     "output_type": "execute_result"
    }
   ],
   "source": [
    "lst = [\"A\",\"B\",\"C\"]\n",
    "\" \".join(lst)"
   ]
  },
  {
   "cell_type": "code",
   "execution_count": 20,
   "metadata": {},
   "outputs": [
    {
     "data": {
      "text/plain": [
       "'Good but need updates and improvements Worst mobile i have bought ever, Battery is draining like hell, backup is only 6 to 7 hours with internet uses, even if I put mobile idle its getting discharged.'"
      ]
     },
     "execution_count": 20,
     "metadata": {},
     "output_type": "execute_result"
    }
   ],
   "source": [
    "reviews_combined[:200]\n",
    "#reviews_combined[:200]"
   ]
  },
  {
   "cell_type": "code",
   "execution_count": 21,
   "metadata": {},
   "outputs": [],
   "source": [
    "word_cloud = WordCloud().generate(reviews_combined)\n",
    "#word_cloud = WordCloud().generate(reviews_combined)"
   ]
  },
  {
   "cell_type": "code",
   "execution_count": 22,
   "metadata": {},
   "outputs": [
    {
     "data": {
      "image/png": "[encoded data removed]",
      "text/plain": [
       "<Figure size 432x288 with 1 Axes>"
      ]
     },
     "metadata": {
      "needs_background": "light"
     },
     "output_type": "display_data"
    }
   ],
   "source": [
    "plt.figure()\n",
    "plt.imshow(word_cloud)\n",
    "plt.show()\n",
    "\n",
    "#plt.figure()\n",
    "#plt.imshow(word_cloud)\n",
    "#plt.show()"
   ]
  },
  {
   "cell_type": "code",
   "execution_count": 23,
   "metadata": {},
   "outputs": [],
   "source": [
    "word_cloud = WordCloud(width=800,height=800,\n",
    "                       background_color='white',\n",
    "                       max_words=150).\\\n",
    "generate(reviews_combined)\n",
    "\n",
    "#word_cloud = WordCloud(width = 800,height = 800,\n",
    "#background_color = 'white', max_words = 150).generate(reviews_combined)"
   ]
  },
  {
   "cell_type": "code",
   "execution_count": 24,
   "metadata": {},
   "outputs": [
    {
     "data": {
      "image/png": "[encoded data removed]",
      "text/plain": [
       "<Figure size 576x576 with 1 Axes>"
      ]
     },
     "metadata": {
      "needs_background": "light"
     },
     "output_type": "display_data"
    }
   ],
   "source": [
    "plt.figure(figsize=[8,8])\n",
    "plt.imshow(word_cloud)\n",
    "plt.show()\n",
    "\n",
    "#plt.figure(figsize =[8,8])\n",
    "#plt.imshow(word_cloud)\n",
    "#plt.show()"
   ]
  },
  {
   "cell_type": "markdown",
   "metadata": {},
   "source": [
    "## Bar graph of top 25 used words"
   ]
  },
  {
   "cell_type": "markdown",
   "metadata": {},
   "source": [
    "1. get the words and the frequencies\n",
    "2. sort based on frequencies and get the top 25 words\n",
    "3. plot the bar graph"
   ]
  },
  {
   "cell_type": "code",
   "execution_count": 25,
   "metadata": {},
   "outputs": [],
   "source": [
    "from nltk.probability import FreqDist\n",
    "all_terms = reviews_combined.split(\" \")\n",
    "fdist = FreqDist(all_terms)\n",
    "\n",
    "#from nltk.probability import FreqDist\n",
    "#all_terms = reviews_combined.split(\" \")\n",
    "#fdist = FreqDist(all_terms)"
   ]
  },
  {
   "cell_type": "code",
   "execution_count": 26,
   "metadata": {},
   "outputs": [
    {
     "data": {
      "text/plain": [
       "FreqDist({'is': 10151, 'the': 5565, 'not': 5162, 'and': 5078, 'phone': 4766, 'to': 4627, 'this': 3833, 'in': 3445, 'I': 3418, 'good': 3348, ...})"
      ]
     },
     "execution_count": 26,
     "metadata": {},
     "output_type": "execute_result"
    }
   ],
   "source": [
    "fdist"
   ]
  },
  {
   "cell_type": "code",
   "execution_count": 27,
   "metadata": {},
   "outputs": [],
   "source": [
    "#From the dict obtain a data frame of words and freq's\n",
    "df_dist = pd.DataFrame(fdist.items(), columns = [\"words\",\"freq\"])\n",
    "#df_dist = pd.DataFrame(fdist.items(), columns = [\"words\", \"freq\"])"
   ]
  },
  {
   "cell_type": "code",
   "execution_count": 28,
   "metadata": {},
   "outputs": [
    {
     "data": {
      "text/html": [
       "<div>\n",
       "<style scoped>\n",
       "    .dataframe tbody tr th:only-of-type {\n",
       "        vertical-align: middle;\n",
       "    }\n",
       "\n",
       "    .dataframe tbody tr th {\n",
       "        vertical-align: top;\n",
       "    }\n",
       "\n",
       "    .dataframe thead th {\n",
       "        text-align: right;\n",
       "    }\n",
       "</style>\n",
       "<table border=\"1\" class=\"dataframe\">\n",
       "  <thead>\n",
       "    <tr style=\"text-align: right;\">\n",
       "      <th></th>\n",
       "      <th>words</th>\n",
       "      <th>freq</th>\n",
       "    </tr>\n",
       "  </thead>\n",
       "  <tbody>\n",
       "    <tr>\n",
       "      <th>0</th>\n",
       "      <td>Good</td>\n",
       "      <td>1315</td>\n",
       "    </tr>\n",
       "    <tr>\n",
       "      <th>1</th>\n",
       "      <td>but</td>\n",
       "      <td>2222</td>\n",
       "    </tr>\n",
       "    <tr>\n",
       "      <th>2</th>\n",
       "      <td>need</td>\n",
       "      <td>196</td>\n",
       "    </tr>\n",
       "    <tr>\n",
       "      <th>3</th>\n",
       "      <td>updates</td>\n",
       "      <td>98</td>\n",
       "    </tr>\n",
       "    <tr>\n",
       "      <th>4</th>\n",
       "      <td>and</td>\n",
       "      <td>5078</td>\n",
       "    </tr>\n",
       "  </tbody>\n",
       "</table>\n",
       "</div>"
      ],
      "text/plain": [
       "     words  freq\n",
       "0     Good  1315\n",
       "1      but  2222\n",
       "2     need   196\n",
       "3  updates    98\n",
       "4      and  5078"
      ]
     },
     "execution_count": 28,
     "metadata": {},
     "output_type": "execute_result"
    }
   ],
   "source": [
    "df_dist.head()"
   ]
  },
  {
   "cell_type": "code",
   "execution_count": 29,
   "metadata": {},
   "outputs": [
    {
     "data": {
      "text/html": [
       "<div>\n",
       "<style scoped>\n",
       "    .dataframe tbody tr th:only-of-type {\n",
       "        vertical-align: middle;\n",
       "    }\n",
       "\n",
       "    .dataframe tbody tr th {\n",
       "        vertical-align: top;\n",
       "    }\n",
       "\n",
       "    .dataframe thead th {\n",
       "        text-align: right;\n",
       "    }\n",
       "</style>\n",
       "<table border=\"1\" class=\"dataframe\">\n",
       "  <thead>\n",
       "    <tr style=\"text-align: right;\">\n",
       "      <th></th>\n",
       "      <th>words</th>\n",
       "      <th>freq</th>\n",
       "    </tr>\n",
       "  </thead>\n",
       "  <tbody>\n",
       "    <tr>\n",
       "      <th>13</th>\n",
       "      <td>is</td>\n",
       "      <td>10151</td>\n",
       "    </tr>\n",
       "    <tr>\n",
       "      <th>94</th>\n",
       "      <td>the</td>\n",
       "      <td>5565</td>\n",
       "    </tr>\n",
       "    <tr>\n",
       "      <th>41</th>\n",
       "      <td>not</td>\n",
       "      <td>5162</td>\n",
       "    </tr>\n",
       "    <tr>\n",
       "      <th>4</th>\n",
       "      <td>and</td>\n",
       "      <td>5078</td>\n",
       "    </tr>\n",
       "    <tr>\n",
       "      <th>91</th>\n",
       "      <td>phone</td>\n",
       "      <td>4766</td>\n",
       "    </tr>\n",
       "    <tr>\n",
       "      <th>20</th>\n",
       "      <td>to</td>\n",
       "      <td>4627</td>\n",
       "    </tr>\n",
       "    <tr>\n",
       "      <th>75</th>\n",
       "      <td>this</td>\n",
       "      <td>3833</td>\n",
       "    </tr>\n",
       "    <tr>\n",
       "      <th>143</th>\n",
       "      <td>in</td>\n",
       "      <td>3445</td>\n",
       "    </tr>\n",
       "    <tr>\n",
       "      <th>28</th>\n",
       "      <td>I</td>\n",
       "      <td>3418</td>\n",
       "    </tr>\n",
       "    <tr>\n",
       "      <th>185</th>\n",
       "      <td>good</td>\n",
       "      <td>3348</td>\n",
       "    </tr>\n",
       "    <tr>\n",
       "      <th>74</th>\n",
       "      <td>for</td>\n",
       "      <td>3007</td>\n",
       "    </tr>\n",
       "    <tr>\n",
       "      <th>121</th>\n",
       "      <td>a</td>\n",
       "      <td>2981</td>\n",
       "    </tr>\n",
       "    <tr>\n",
       "      <th>57</th>\n",
       "      <td>it</td>\n",
       "      <td>2975</td>\n",
       "    </tr>\n",
       "    <tr>\n",
       "      <th>70</th>\n",
       "      <td>of</td>\n",
       "      <td>2832</td>\n",
       "    </tr>\n",
       "    <tr>\n",
       "      <th>178</th>\n",
       "      <td>very</td>\n",
       "      <td>2567</td>\n",
       "    </tr>\n",
       "  </tbody>\n",
       "</table>\n",
       "</div>"
      ],
      "text/plain": [
       "     words   freq\n",
       "13      is  10151\n",
       "94     the   5565\n",
       "41     not   5162\n",
       "4      and   5078\n",
       "91   phone   4766\n",
       "20      to   4627\n",
       "75    this   3833\n",
       "143     in   3445\n",
       "28       I   3418\n",
       "185   good   3348\n",
       "74     for   3007\n",
       "121      a   2981\n",
       "57      it   2975\n",
       "70      of   2832\n",
       "178   very   2567"
      ]
     },
     "execution_count": 29,
     "metadata": {},
     "output_type": "execute_result"
    }
   ],
   "source": [
    "#Top 5 words based on frequency\n",
    "df_dist.sort_values(ascending=False, by=\"freq\").head(15)\n",
    "#df_dist.sort_values(ascending = False, by =\"freq\").head(15)"
   ]
  },
  {
   "cell_type": "code",
   "execution_count": 30,
   "metadata": {},
   "outputs": [
    {
     "data": {
      "text/plain": [
       "<matplotlib.axes._subplots.AxesSubplot at 0x1fb671b7cc0>"
      ]
     },
     "execution_count": 30,
     "metadata": {},
     "output_type": "execute_result"
    },
    {
     "data": {
      "image/png": "[encoded data removed]",
      "text/plain": [
       "<Figure size 1440x360 with 1 Axes>"
      ]
     },
     "metadata": {
      "needs_background": "light"
     },
     "output_type": "display_data"
    }
   ],
   "source": [
    "%matplotlib inline\n",
    "df_dist.sort_values(ascending=False, by=\"freq\").head(25).\\\n",
    "plot.bar(x= \"words\", y= \"freq\",figsize=(20,5)) \n",
    "\n",
    "# %matplotlib inline\n",
    "# df_dist.sort_values(ascending = False, by = \"freq\").head(25).\\\n",
    "#plot.bar(x= \"words\", y =\"freq\", figsize = (20,5))"
   ]
  },
  {
   "cell_type": "markdown",
   "metadata": {},
   "source": [
    "Problems with these visuals : Too many distinct words in the corpus of reviews\n",
    "    \n",
    "    1.Text is non uniform case\n",
    "    2.Punctuations present in the text\n",
    "    3.There are language connectors in the text - stop words\n",
    "    4.Words with different forms/tenses - charge, charged, charging"
   ]
  },
  {
   "cell_type": "markdown",
   "metadata": {},
   "source": [
    "## Text Cleaning"
   ]
  },
  {
   "cell_type": "code",
   "execution_count": 31,
   "metadata": {},
   "outputs": [],
   "source": [
    "from nltk.tokenize import word_tokenize\n",
    "#from nltk.tokenize import word_tokenize"
   ]
  },
  {
   "cell_type": "code",
   "execution_count": 32,
   "metadata": {},
   "outputs": [],
   "source": [
    "all_terms = word_tokenize(reviews_combined.lower())\n",
    "#all_terms = word_tokenize(reviews_combined.lower())"
   ]
  },
  {
   "cell_type": "code",
   "execution_count": 33,
   "metadata": {},
   "outputs": [
    {
     "name": "stdout",
     "output_type": "stream",
     "text": [
      "['good', 'but', 'need', 'updates', 'and', 'improvements', 'worst', 'mobile', 'i', 'have', 'bought', 'ever', ',', 'battery', 'is', 'draining', 'like', 'hell', ',', 'backup']\n"
     ]
    }
   ],
   "source": [
    "print(all_terms[:20])"
   ]
  },
  {
   "cell_type": "code",
   "execution_count": 34,
   "metadata": {},
   "outputs": [
    {
     "data": {
      "text/plain": [
       "19159"
      ]
     },
     "execution_count": 34,
     "metadata": {},
     "output_type": "execute_result"
    }
   ],
   "source": [
    "len(set(all_terms))"
   ]
  },
  {
   "cell_type": "code",
   "execution_count": 35,
   "metadata": {},
   "outputs": [
    {
     "data": {
      "text/plain": [
       "FreqDist({'.': 13530, 'is': 10386, ',': 6890, 'phone': 6565, 'the': 6526, 'not': 6030, 'good': 5717, 'and': 5413, 'it': 5375, 'to': 4697, ...})"
      ]
     },
     "execution_count": 35,
     "metadata": {},
     "output_type": "execute_result"
    }
   ],
   "source": [
    "fdist = FreqDist(all_terms)\n",
    "fdist"
   ]
  },
  {
   "cell_type": "code",
   "execution_count": 36,
   "metadata": {},
   "outputs": [
    {
     "data": {
      "image/png": "[encoded data removed]",
      "text/plain": [
       "<Figure size 432x288 with 1 Axes>"
      ]
     },
     "metadata": {
      "needs_background": "light"
     },
     "output_type": "display_data"
    }
   ],
   "source": [
    "fdist.plot(30)\n",
    "plt.show()"
   ]
  },
  {
   "cell_type": "markdown",
   "metadata": {},
   "source": [
    "The head and the tail of the above graph consists of either punct or stop words which needs to be removed"
   ]
  },
  {
   "cell_type": "code",
   "execution_count": 37,
   "metadata": {},
   "outputs": [],
   "source": [
    "reviews_combined_clean = re.sub(\"[^\\w\\s]+\",\"\",reviews_combined)\n",
    "all_terms = word_tokenize(reviews_combined_clean.lower())"
   ]
  },
  {
   "cell_type": "code",
   "execution_count": 38,
   "metadata": {},
   "outputs": [
    {
     "data": {
      "text/plain": [
       "18818"
      ]
     },
     "execution_count": 38,
     "metadata": {},
     "output_type": "execute_result"
    }
   ],
   "source": [
    "len(set(all_terms))"
   ]
  },
  {
   "cell_type": "code",
   "execution_count": 39,
   "metadata": {},
   "outputs": [],
   "source": [
    "from nltk.corpus import stopwords\n",
    "#from nltk.corpus import stopwords"
   ]
  },
  {
   "cell_type": "code",
   "execution_count": 40,
   "metadata": {},
   "outputs": [],
   "source": [
    "stop_nltk = stopwords.words(\"english\")\n",
    "#stop_nltk = stopwords.words(\"english\")"
   ]
  },
  {
   "cell_type": "code",
   "execution_count": 41,
   "metadata": {},
   "outputs": [],
   "source": [
    "stop_updated = stop_nltk  + [\"mobile\",\"phone\",\"lenovo\",\"k8\",\"note\"]\n",
    "#stop_updated = stop_nltk + [\"\"]"
   ]
  },
  {
   "cell_type": "code",
   "execution_count": 42,
   "metadata": {},
   "outputs": [],
   "source": [
    "all_terms1 = [term for term in all_terms if term not in stop_updated and len(term)>2]"
   ]
  },
  {
   "cell_type": "code",
   "execution_count": 43,
   "metadata": {},
   "outputs": [
    {
     "data": {
      "text/plain": [
       "18297"
      ]
     },
     "execution_count": 43,
     "metadata": {},
     "output_type": "execute_result"
    }
   ],
   "source": [
    "len(set(all_terms1))"
   ]
  },
  {
   "cell_type": "code",
   "execution_count": 44,
   "metadata": {},
   "outputs": [
    {
     "name": "stdout",
     "output_type": "stream",
     "text": [
      "['good', 'need', 'updates', 'improvements', 'worst', 'bought', 'ever', 'battery', 'draining', 'like', 'hell', 'backup', 'hours', 'internet', 'uses', 'even', 'put', 'idle', 'getting', 'dischargedthis', 'biggest', 'lie', 'amazon', 'lenove', 'expected', 'making', 'full', 'saying', 'battery', '4000mah', 'booster', 'charger', 'fake', 'takes', 'least', 'hours', 'fully', 'chargeddont', 'know', 'survive', 'making', 'full', 'usplease', 'dont', 'else', 'regret', 'like', 'get', 'cash', 'back', 'already', 'january', 'good', 'worst', 'everthey', 'changed', 'last', 'problem', 'still', 'amazon', 'returning', 'highly', 'disappointing', 'amazon', 'telling', 'dont', 'buyim', 'totally', 'disappointedpoor', 'batterypoor', 'camerawaste', 'money', 'awesome', 'charging', 'heats', 'allotreally', 'genuine', 'reason', 'hate', 'battery', 'level', 'worn', 'hitting', 'problemsand', 'hanging', 'problems', 'noteso', 'service', 'station', 'ahmedabad', 'one', 'years', 'warranty', 'change', 'lot', 'glitches', 'dont', 'buy', 'thing', 'better', 'options', 'wrost', 'good', 'charger', 'working', 'damage', 'within', 'months', 'dont', 'purchase', 'item', 'much', 'heating', 'battery', 'life', 'poor', 'faced', 'battery', 'problem', 'motherboard', 'problem', 'months', 'worst', 'life', 'good', 'slim', 'good', 'battry', 'backup', 'good', 'screen', 'love', 'headset', 'available', 'every', 'time', 'automatic', 'kindly', 'suggest', 'best', 'product', 'according', 'prize', 'range', 'specification', 'comparison', 'another', 'mobileunder', 'range', 'bought', 'amazon', 'seal', 'paid', '10999', 'also', 'hdpf', 'credit', 'card', 'paid', '9998', 'best', 'deal', 'ever', 'done', 'amazon', 'battery', 'draining', 'rapidly', 'dont', 'know', 'whytell', 'possible', 'solutions', 'battery', 'life', 'good', 'smartphone', 'good', 'galery', 'problem', 'atmos', 'speakernormal', 'speaker', 'excellent', 'camera', 'excellent', 'speedexcellent', 'featuresexcelent', 'battery', 'good', 'product', 'good', 'product', 'camera', 'poor', 'goodbattery', 'draining', 'quicklylike', 'odinary', 'phoneit']\n"
     ]
    }
   ],
   "source": [
    "print(all_terms1[:200])"
   ]
  },
  {
   "cell_type": "code",
   "execution_count": 45,
   "metadata": {},
   "outputs": [
    {
     "data": {
      "text/plain": [
       "{'meani',\n",
       " 'resistency',\n",
       " 'foulty',\n",
       " 'mute',\n",
       " 'useing',\n",
       " 'featuresie',\n",
       " 'review2',\n",
       " 'bother',\n",
       " 'performanceim',\n",
       " 'ordering',\n",
       " 'sks',\n",
       " 'parfamence',\n",
       " 'stop6while',\n",
       " 'budget',\n",
       " 'apps2',\n",
       " 'exllent',\n",
       " 'anybody',\n",
       " 'downward',\n",
       " 'darknessall',\n",
       " 'okbattry',\n",
       " 'hundreds',\n",
       " 'woow',\n",
       " 'why9',\n",
       " 'thk',\n",
       " 'wastetouch',\n",
       " 'poordual',\n",
       " 'least',\n",
       " 'vibebad',\n",
       " 'openingi',\n",
       " 'mobiiiiiiiiil',\n",
       " 'surprises',\n",
       " 'chatting',\n",
       " 'itnernal',\n",
       " 'good2battery',\n",
       " 'todayand',\n",
       " 'prodect',\n",
       " 'ect',\n",
       " 'vaat',\n",
       " 'kudos',\n",
       " 'superiear',\n",
       " 'usagebuild',\n",
       " 'issuelatest',\n",
       " 'goodlookwise',\n",
       " 'rangeit',\n",
       " 'spacehave',\n",
       " 'degrade',\n",
       " 'scale',\n",
       " 'commandsandroid',\n",
       " '25ththe',\n",
       " 'chargingworst',\n",
       " 'there3',\n",
       " 'killerturbo',\n",
       " 'rateits',\n",
       " 'inspect',\n",
       " 'mobilequickly',\n",
       " 'wet',\n",
       " 'teach',\n",
       " 'pros',\n",
       " 'thisis',\n",
       " 'laggingaltogether',\n",
       " 'letdown',\n",
       " 'doran',\n",
       " 'furtherand',\n",
       " 'probelom',\n",
       " 'greatthose',\n",
       " 'chargeaga',\n",
       " 'starsi',\n",
       " 'gprs',\n",
       " 'service',\n",
       " 'returnedbecause',\n",
       " 'option',\n",
       " 'release',\n",
       " 'kind',\n",
       " 'describes',\n",
       " 'isvery',\n",
       " 'only8099',\n",
       " 'superman',\n",
       " 'moneylight',\n",
       " 'happily',\n",
       " 'accepts',\n",
       " 'views',\n",
       " '1one',\n",
       " 'cameraspecialy',\n",
       " 'offerat',\n",
       " 'cutter',\n",
       " 'makers',\n",
       " 'dell',\n",
       " 'neuper',\n",
       " 'portrait',\n",
       " 'cake',\n",
       " 'seate',\n",
       " 'optionsbattery',\n",
       " 'workingwhat',\n",
       " 'let',\n",
       " 'updatednaught',\n",
       " 'phas',\n",
       " 'iteverything',\n",
       " 'hannged',\n",
       " 'drainfor',\n",
       " 'amozen',\n",
       " 'thereafter',\n",
       " 'superbattery',\n",
       " 'reviewing',\n",
       " 'aspects',\n",
       " 'att',\n",
       " 'aside',\n",
       " 'according',\n",
       " 'processor3heating',\n",
       " 'writting',\n",
       " '40prcnt',\n",
       " 'issuesetchumble',\n",
       " 'anythingjust',\n",
       " 'road',\n",
       " 'becoz',\n",
       " 'problemone',\n",
       " 'tarah',\n",
       " 'phonebokeh',\n",
       " 'lpoor',\n",
       " 'pronlem',\n",
       " 'steps',\n",
       " 'yday',\n",
       " 'samrt',\n",
       " 'productfast',\n",
       " '3and',\n",
       " 'proposition',\n",
       " 'successfully',\n",
       " 'enought',\n",
       " '999900',\n",
       " 'centere',\n",
       " 'mistake',\n",
       " 'heatingit',\n",
       " 'mobileamazon',\n",
       " 'blue',\n",
       " 'filter',\n",
       " 'loosed',\n",
       " 'dayshows',\n",
       " 'expectationsa',\n",
       " 'goodpicture',\n",
       " 'crackedvery',\n",
       " 'phonethis',\n",
       " 'no1',\n",
       " 'bit',\n",
       " 'miner',\n",
       " 'morei',\n",
       " 'vibrate',\n",
       " 'decently',\n",
       " 'suckdont',\n",
       " 'phonesbattery',\n",
       " 'andor',\n",
       " 'buyersrajiv',\n",
       " 'holes',\n",
       " 'chargedheavyweekly',\n",
       " 'problemgreat',\n",
       " 'place6',\n",
       " 'phoneout',\n",
       " 'earphoneit',\n",
       " 'welli',\n",
       " 'happeningwish',\n",
       " 'alsothe',\n",
       " 'glue',\n",
       " 'cardsful',\n",
       " 'wisely',\n",
       " 'pump',\n",
       " 'displays',\n",
       " 'case2',\n",
       " 'apr30may28',\n",
       " 'microsoft',\n",
       " 'tim',\n",
       " 'develop',\n",
       " 'patterncharging',\n",
       " 'disappointed2',\n",
       " 'amazonoverall',\n",
       " 'substandard',\n",
       " 'batterylow',\n",
       " 'pickup',\n",
       " 'attractedsold',\n",
       " 'disappointingly',\n",
       " 'terms',\n",
       " 'study',\n",
       " 'jiska',\n",
       " 'touchjio',\n",
       " 'leta',\n",
       " 'callplz',\n",
       " 'unbuilt',\n",
       " 'callingcall',\n",
       " 'batterystock',\n",
       " 'performancegreat',\n",
       " 'dameged',\n",
       " 'featuresfantabulous',\n",
       " 'guyswaste',\n",
       " 'contact2',\n",
       " 'pervious',\n",
       " 'point',\n",
       " 'mazor',\n",
       " 'bakra',\n",
       " 'glassit',\n",
       " 'abrupt',\n",
       " 'radiates',\n",
       " 'gave',\n",
       " 'batterygaming',\n",
       " 'better4',\n",
       " 'urge',\n",
       " 'earplugs',\n",
       " 'plastic6big',\n",
       " 'addscamara',\n",
       " 'cheaters',\n",
       " 'noteonly',\n",
       " 'expections',\n",
       " '210',\n",
       " 'desgining',\n",
       " 'allas',\n",
       " 'hopelesshope',\n",
       " 'handphotos',\n",
       " 'defectivecouldnt',\n",
       " 'objectfront',\n",
       " 'picks',\n",
       " 'statement',\n",
       " 'rhii',\n",
       " 'utilities',\n",
       " '050',\n",
       " 'product1',\n",
       " 'lier',\n",
       " 'issue2average',\n",
       " 'कडक',\n",
       " 'fingerprintjab',\n",
       " 'maja',\n",
       " 'phoneeverthing',\n",
       " 'deapth',\n",
       " 'problum',\n",
       " 'incumbent',\n",
       " 'sweaty',\n",
       " 'disapointed',\n",
       " 'dynamic',\n",
       " 'k8s',\n",
       " 'slowas',\n",
       " 'memory',\n",
       " 'yarum',\n",
       " '2gbut',\n",
       " '5000rs',\n",
       " 'promotes',\n",
       " 'chargingbattery',\n",
       " '8ball',\n",
       " 'deals',\n",
       " 'sold',\n",
       " 'enables',\n",
       " '4mnths',\n",
       " 'effectdual',\n",
       " 'lenovon',\n",
       " 'productheating',\n",
       " 'specialfront',\n",
       " '14000my',\n",
       " 'swithched',\n",
       " 'betweennetwork',\n",
       " 'slept',\n",
       " 'goodthanks',\n",
       " 'required',\n",
       " 'life3softwear',\n",
       " 'plushavent',\n",
       " 'leoavo',\n",
       " 'unknowingly',\n",
       " 'properlygoogle',\n",
       " 'disappointingwould',\n",
       " 'buttery',\n",
       " 'nightmare',\n",
       " 'buzzing',\n",
       " 'timesauto',\n",
       " 'extract',\n",
       " 'spider',\n",
       " 'potrait',\n",
       " 'pennypros1',\n",
       " 'present',\n",
       " 'averagedont',\n",
       " 'boil',\n",
       " 'sports',\n",
       " 'flight',\n",
       " 'thst',\n",
       " 'dainsplse',\n",
       " '1353performance',\n",
       " 'goodblur',\n",
       " 'goodcast',\n",
       " 'skeptical',\n",
       " 'replied',\n",
       " 'vgoodi',\n",
       " 'direct',\n",
       " 'aftwr',\n",
       " 'repeating',\n",
       " 'karoye',\n",
       " 'hadgaming',\n",
       " 'defectivedont',\n",
       " 'goodbetter',\n",
       " 'jao',\n",
       " 'major',\n",
       " 'monthno',\n",
       " 'good3ram4b',\n",
       " 'smoothcamera',\n",
       " 'nahin',\n",
       " 'unusual',\n",
       " 'goodre',\n",
       " 'mff',\n",
       " 'expecially',\n",
       " 'discharging',\n",
       " 'eardont',\n",
       " 'classnumber',\n",
       " 'unsbne',\n",
       " 'even',\n",
       " 'arcade',\n",
       " 'vaulted',\n",
       " 'shooting',\n",
       " 'start4',\n",
       " 'unprotected',\n",
       " 'glassbut',\n",
       " 'twicethrice',\n",
       " 'island',\n",
       " 'worte',\n",
       " 'reutrn',\n",
       " 'atomos',\n",
       " 'oneand',\n",
       " 'element',\n",
       " 'cornered',\n",
       " 'qualityspeaker',\n",
       " 'repeatedlyplease',\n",
       " 'expectedin',\n",
       " 'ok4',\n",
       " 'accuracy',\n",
       " '4gso',\n",
       " 'characters',\n",
       " 'itconsbad',\n",
       " 'aiming',\n",
       " 'issuebuild',\n",
       " 'battery2',\n",
       " 'imei',\n",
       " 'phoneui',\n",
       " 'amazon3',\n",
       " 'expectationfront',\n",
       " 'healthperformance',\n",
       " 'thiswell',\n",
       " 'clarity',\n",
       " 'bhai',\n",
       " 'music5',\n",
       " 'setearphone',\n",
       " 'ghe',\n",
       " 'gamingand',\n",
       " 'casedepth',\n",
       " '4gthe',\n",
       " 'nowhardware',\n",
       " 'consuntil',\n",
       " 'etcthe',\n",
       " 'aswome',\n",
       " 'allif',\n",
       " 'pee',\n",
       " 'heatdont',\n",
       " 'mode2',\n",
       " 'krta',\n",
       " '180gms2heats',\n",
       " 'dealing',\n",
       " 'emails',\n",
       " 'muncipal',\n",
       " 'infrom',\n",
       " 'chala',\n",
       " '4gigs',\n",
       " 'phonefake',\n",
       " 'viewing',\n",
       " '64internal',\n",
       " 'make',\n",
       " 'loan',\n",
       " 'thisworst',\n",
       " 'heatingunable',\n",
       " 'text',\n",
       " 'backupthis',\n",
       " '300',\n",
       " 'usedheated',\n",
       " 'literally',\n",
       " 'wouldnt',\n",
       " 'hill',\n",
       " 'improvemnts',\n",
       " 'reseption',\n",
       " 'counted',\n",
       " 'inferior',\n",
       " 'hou',\n",
       " 'httpsforumslenovocomt5k8xt1902smartphoneshiguysisthereanysolutionforbatterydrainissueinlenovotdp3777078',\n",
       " 'trustful',\n",
       " 'workingmy',\n",
       " 'necessary',\n",
       " 'quickworth',\n",
       " 'disconnectedno',\n",
       " 'dilling',\n",
       " 'arguelastly',\n",
       " 'description',\n",
       " 'wolluld',\n",
       " 'smartphine',\n",
       " 'brain',\n",
       " 'path',\n",
       " '4000mahits',\n",
       " 'grainy3',\n",
       " 'barely',\n",
       " 'suppppeeerrrr',\n",
       " 'lowalso',\n",
       " 'galss',\n",
       " 'mobilelooks',\n",
       " 'heading',\n",
       " 'daybad',\n",
       " 'af3',\n",
       " 'whatsapp',\n",
       " 'boxes',\n",
       " 'precious',\n",
       " 'piececase',\n",
       " 'scene',\n",
       " 'performancea',\n",
       " 'search',\n",
       " 'poorcons1depth',\n",
       " 'jointly',\n",
       " 'minuts',\n",
       " 'productperformance',\n",
       " 'workingbut',\n",
       " 'blank',\n",
       " 'draining100',\n",
       " 'externally',\n",
       " 'averagebut',\n",
       " 'deserving',\n",
       " 'sensorfeather',\n",
       " 'fid',\n",
       " 'usual',\n",
       " 'rumours',\n",
       " 'systen',\n",
       " 'themesdual',\n",
       " 'goodlook',\n",
       " 'categories',\n",
       " 'problemsingal',\n",
       " 'noted',\n",
       " 'backmobile',\n",
       " 'sameregardsrahul',\n",
       " 'finaly',\n",
       " 'weapon',\n",
       " 'productits',\n",
       " 'itpls',\n",
       " 'abscent',\n",
       " 'garrenty',\n",
       " 'finebattery',\n",
       " 'frightens',\n",
       " 'altogethercharge',\n",
       " 'luck',\n",
       " 'glitch',\n",
       " 'system',\n",
       " 'silent',\n",
       " 'toucheverything',\n",
       " 'aayega',\n",
       " 'hoursaverage',\n",
       " 'rs11000',\n",
       " 'haiye',\n",
       " 'bax',\n",
       " 'abt',\n",
       " 'resistantfaster',\n",
       " 'updatedshortcut',\n",
       " 'experiences',\n",
       " 'phonebettery',\n",
       " 'frank',\n",
       " 'asome',\n",
       " 'settings',\n",
       " 'vidieo',\n",
       " 'frone',\n",
       " 'displaythe',\n",
       " 'finishes',\n",
       " '25dec17',\n",
       " 'wellthe',\n",
       " 'lifeissues',\n",
       " 'ringer3',\n",
       " 'beastdisplay',\n",
       " 'executives',\n",
       " 'travellers',\n",
       " 'expexted',\n",
       " 'softly',\n",
       " 'lonovo',\n",
       " 'enoughthe',\n",
       " 'gira',\n",
       " 'pareshani',\n",
       " 'industry',\n",
       " 'floor',\n",
       " 'devicesbattery',\n",
       " 'goodmajor',\n",
       " 'lol',\n",
       " 'use3it',\n",
       " 'productcons',\n",
       " 'blurs',\n",
       " 'rangesuperb',\n",
       " 'thaa',\n",
       " 'hangcamera',\n",
       " 'visible',\n",
       " 'markyet',\n",
       " 'sirmadamim',\n",
       " 'months',\n",
       " 'jio4gvoice',\n",
       " 'threads',\n",
       " 'rangetouch',\n",
       " 'donate',\n",
       " 'poorno',\n",
       " 'gatiya',\n",
       " 'fargreat',\n",
       " 'concted',\n",
       " '19k20kexcellent',\n",
       " 'pros1performancedeca',\n",
       " 'quality1095phone',\n",
       " 'superbaudio',\n",
       " 'havy',\n",
       " 'successother',\n",
       " 'mali',\n",
       " 'searching',\n",
       " 'diretly',\n",
       " 'slot5',\n",
       " 'sceptical',\n",
       " 'buler',\n",
       " 'general',\n",
       " 'rectify',\n",
       " 'notemi',\n",
       " 'returnablepls',\n",
       " 'specificationsoverall',\n",
       " 'jab',\n",
       " 'cameraoverheats',\n",
       " 'bench',\n",
       " 'timeshowever',\n",
       " 'updatetheir',\n",
       " 'unbeatable',\n",
       " 'ticket',\n",
       " 'userecommendation',\n",
       " 'phonefetures',\n",
       " 'olte',\n",
       " 'happenedlenovo',\n",
       " 'bettrylife',\n",
       " 'matched',\n",
       " 'impeccable',\n",
       " 'eitherpoint',\n",
       " 'sakeonly',\n",
       " 'phenomenal',\n",
       " 'gameperformance',\n",
       " 'naya',\n",
       " 'daydual',\n",
       " 'thin',\n",
       " 'amazonplease',\n",
       " 'start1',\n",
       " 'owsm',\n",
       " 'problemyou',\n",
       " 'somehow',\n",
       " 'updown',\n",
       " 'crapcamera',\n",
       " 'priceand',\n",
       " 'lagirear',\n",
       " 'pricebetter',\n",
       " 'goodfast',\n",
       " 'there2',\n",
       " 'foolit',\n",
       " 'everyday',\n",
       " 'knew',\n",
       " 'poweramp',\n",
       " 'symbols',\n",
       " 'depht',\n",
       " '6000rs',\n",
       " 'anymoredont',\n",
       " 'monthi',\n",
       " 'soso',\n",
       " 'a57',\n",
       " 'lenovootherwise',\n",
       " 'pair',\n",
       " 'playit',\n",
       " 'keytheatermax',\n",
       " 'brock',\n",
       " 'message',\n",
       " 'fucher',\n",
       " '46i',\n",
       " 'feild',\n",
       " 'p70',\n",
       " 'soundpicture',\n",
       " 'gamespros',\n",
       " 'vimbar',\n",
       " 'carei',\n",
       " 'camerabt',\n",
       " 'castalso',\n",
       " 'purchasethis',\n",
       " 'catches',\n",
       " 'quick2',\n",
       " 'afternoon',\n",
       " 'timesplz',\n",
       " 'closest',\n",
       " 'quicker',\n",
       " 'delivery',\n",
       " 'worsed',\n",
       " 'properlyinstead',\n",
       " 'configurations',\n",
       " 'suspecting',\n",
       " 'pale',\n",
       " 'antenna',\n",
       " 'whitish',\n",
       " 'chargingsmooth',\n",
       " 'returnsimply',\n",
       " 'this2',\n",
       " 'contact5',\n",
       " 'thisalready',\n",
       " '8540',\n",
       " 'beta',\n",
       " 'enough',\n",
       " 'refud',\n",
       " 'surprisingly',\n",
       " 'rangeeven',\n",
       " 'qualityphone',\n",
       " 'thoughts',\n",
       " 'deficiencies',\n",
       " 'well6overall',\n",
       " 'yellowish5',\n",
       " 'fixing',\n",
       " 'choose',\n",
       " 'scannerconsheavy',\n",
       " 'jacknot',\n",
       " 'productthe',\n",
       " 'daybut',\n",
       " 'gameheats',\n",
       " 'natura',\n",
       " 'app',\n",
       " 'hasfunctions',\n",
       " 'omgafter',\n",
       " 'beafter',\n",
       " 'aluminium',\n",
       " 'meeting',\n",
       " '1200',\n",
       " 'worsthuge',\n",
       " 'began',\n",
       " 'handlingpros1',\n",
       " 'logged',\n",
       " 'grippy',\n",
       " 'charging',\n",
       " 'offering',\n",
       " 'mobilenetwork',\n",
       " 'timecamera',\n",
       " 'rs12999',\n",
       " 'jack',\n",
       " 'lovers',\n",
       " 'cameracons1',\n",
       " 'blip',\n",
       " 'recirding',\n",
       " 'befor',\n",
       " 'phoneany',\n",
       " 'hasbut',\n",
       " 'vga',\n",
       " 'bluetoothheating',\n",
       " 'parameters',\n",
       " '2017i',\n",
       " 'change',\n",
       " 'organising',\n",
       " '30days',\n",
       " 'fuel',\n",
       " 'away',\n",
       " 'featurewise',\n",
       " 'displaynothing',\n",
       " 'trueonly',\n",
       " '4000mahnice',\n",
       " 'glitching',\n",
       " 'grunion',\n",
       " 'aug17',\n",
       " 'superi',\n",
       " 'huge',\n",
       " 'timeheadphone',\n",
       " 'rated',\n",
       " 'clear2update',\n",
       " 'senti',\n",
       " 'callservice',\n",
       " 'existing',\n",
       " 'thinga',\n",
       " 'storing',\n",
       " '369',\n",
       " 'good3',\n",
       " 'bankwwww',\n",
       " 'expectedover',\n",
       " 'listen',\n",
       " 'vastlycall',\n",
       " 'mahina',\n",
       " 'issuesperfect',\n",
       " 'equilizer',\n",
       " 'deliveryabout',\n",
       " 'joldi',\n",
       " 'leno',\n",
       " 'productbut',\n",
       " 'nowyou',\n",
       " 'whieht',\n",
       " 'signed',\n",
       " 'moneysmooth',\n",
       " 'supporte',\n",
       " 'dikh',\n",
       " 'sit',\n",
       " 'planning',\n",
       " 'clearty',\n",
       " 'phonehope',\n",
       " 'awasome',\n",
       " 'refundits',\n",
       " 'fullywithin',\n",
       " 'baterry',\n",
       " 'ghatya',\n",
       " 'stylish',\n",
       " 'match',\n",
       " 'unexpectedly',\n",
       " 'lifeu',\n",
       " 'heatmy',\n",
       " 'phone6',\n",
       " 'picturewhy',\n",
       " 'optionpachta',\n",
       " 'disappointmentother',\n",
       " 'mistake6notification',\n",
       " 'input',\n",
       " '1003',\n",
       " 'temprature',\n",
       " 'chargeno',\n",
       " 'parform',\n",
       " 'againthe',\n",
       " 'veryy',\n",
       " 'mailed',\n",
       " 'pin',\n",
       " 'hourphone',\n",
       " 'sasta',\n",
       " 'dont2',\n",
       " 'cellphone',\n",
       " 'slotfront',\n",
       " 'darkpro1',\n",
       " 'monthgets',\n",
       " 'motherboard',\n",
       " 'notk8',\n",
       " 'etccons',\n",
       " 'results',\n",
       " 'product',\n",
       " 'starsit',\n",
       " 'etc4big',\n",
       " 'blocky',\n",
       " 'phonesonly',\n",
       " 'osit',\n",
       " 'packagingabout',\n",
       " 'bouth',\n",
       " 'productcontect',\n",
       " 'krck',\n",
       " 'fasterthe',\n",
       " 'stereotype',\n",
       " 'issuepoor',\n",
       " 'day2scrath',\n",
       " 'notek4',\n",
       " 'lennovo',\n",
       " 'pairing',\n",
       " 'decembers',\n",
       " 'oero',\n",
       " 'entirely',\n",
       " 'stability',\n",
       " 'phoneeasy',\n",
       " 'limit',\n",
       " 'buyinggreat',\n",
       " 'mukable',\n",
       " '1600nd',\n",
       " 'natural',\n",
       " 'otg',\n",
       " 'exec',\n",
       " 'rushing',\n",
       " 'sunlight',\n",
       " 'allcharging',\n",
       " 'will4',\n",
       " 'houre',\n",
       " 'clearing',\n",
       " 'expectationsbtcamera',\n",
       " 'dayonly',\n",
       " 'speed',\n",
       " 'flood',\n",
       " 'vfmgood',\n",
       " 'timeeven',\n",
       " 'beast',\n",
       " 'mobileexcellent',\n",
       " '2017but',\n",
       " 'secondalso',\n",
       " 'amp',\n",
       " 'difficultwould',\n",
       " 'flickeringhorizontal',\n",
       " 'egnor',\n",
       " 'are1',\n",
       " 'bust',\n",
       " 'disturbs',\n",
       " 'earned',\n",
       " 'deley',\n",
       " 'itemnow',\n",
       " 'optimisationi',\n",
       " 'screenmobile',\n",
       " 'excessive',\n",
       " 'sweat',\n",
       " 'deviceits',\n",
       " 'blindfolded',\n",
       " 'hangedscreen',\n",
       " 'weeksspeaker',\n",
       " 'goodaal',\n",
       " 'issueduring',\n",
       " 'electronic',\n",
       " 'option3',\n",
       " 'butawesome',\n",
       " 'face',\n",
       " 'regarding',\n",
       " 'buyingalso',\n",
       " 'mobiledont',\n",
       " 'tebattry',\n",
       " 'fhon',\n",
       " 'charging6curved',\n",
       " 'blow',\n",
       " 'prosising',\n",
       " 'camerathough',\n",
       " 'uis',\n",
       " 'problemhotspot',\n",
       " 'bringing',\n",
       " 'timenotification',\n",
       " 'ase',\n",
       " 'prices',\n",
       " 'canada',\n",
       " 'quickly2',\n",
       " 'lag4',\n",
       " 'prob',\n",
       " 'bluetoothalready',\n",
       " 'merely',\n",
       " 'navigationcamera',\n",
       " 'drive',\n",
       " 'phonetnx',\n",
       " 'doubts',\n",
       " 'thingsthanks',\n",
       " 'goodill',\n",
       " 'punching',\n",
       " '190917so',\n",
       " 'thoughtnot',\n",
       " 'crashedi',\n",
       " 'toda',\n",
       " 'prospects',\n",
       " 'indeedgood',\n",
       " 'advertisement',\n",
       " 'thisfirstly',\n",
       " 'placing',\n",
       " 'yelllow',\n",
       " 'awe',\n",
       " 'wat',\n",
       " 'playings',\n",
       " 'vivooppobest',\n",
       " 'helpdesk',\n",
       " 'itcant',\n",
       " 'atmosbatteryprocessormusic',\n",
       " 'bandwidth',\n",
       " 'wonderful',\n",
       " 'overcharged',\n",
       " 'problemcamera',\n",
       " 'design3',\n",
       " 'begun',\n",
       " 'conclude',\n",
       " 'purfectthese',\n",
       " 'carmera',\n",
       " 'onlycamera',\n",
       " 'pink',\n",
       " 'family',\n",
       " 'weast',\n",
       " 'toogetting',\n",
       " 'goodi',\n",
       " '6ams',\n",
       " 'averagemusic',\n",
       " '6000other',\n",
       " 'callsthe',\n",
       " 'gorrilla',\n",
       " 'okjust',\n",
       " 'ongala',\n",
       " '3000mah',\n",
       " 'belong',\n",
       " 'deposit',\n",
       " 'issues',\n",
       " 'recomand',\n",
       " 'purchasethe',\n",
       " '55inches',\n",
       " 'refundpick',\n",
       " 'moneysuganthanplease',\n",
       " 'durablebattry',\n",
       " 'burethat',\n",
       " 'serious',\n",
       " 'saves',\n",
       " 'table',\n",
       " 'okfor',\n",
       " 'guns',\n",
       " 'hang',\n",
       " 'guardno',\n",
       " 'diye',\n",
       " 'effectdisplay',\n",
       " 'everywhere',\n",
       " 'markheating',\n",
       " 'aapse',\n",
       " 'respected',\n",
       " 'wellcamera',\n",
       " 'silentvibrate',\n",
       " 'customar',\n",
       " 'soch',\n",
       " 'response',\n",
       " 'rapidly',\n",
       " 'charge4',\n",
       " 'experiencegot',\n",
       " 'adapt',\n",
       " 'gallery2',\n",
       " 'approved',\n",
       " 'batterysthe',\n",
       " 'slippery3',\n",
       " 'killerwhat',\n",
       " 'goodthat',\n",
       " 'spl',\n",
       " 'proving',\n",
       " 'benot',\n",
       " 'brightness',\n",
       " 'sudakuthu',\n",
       " 'audiable',\n",
       " 'fills',\n",
       " 'karo',\n",
       " 'compatibility',\n",
       " 'glassdrawback',\n",
       " 'newtworkdont',\n",
       " 'fast',\n",
       " 'saleem',\n",
       " 'opening',\n",
       " '4000mahso',\n",
       " 'bki',\n",
       " 'chargingfront',\n",
       " 'rangethe',\n",
       " 'gaya',\n",
       " '2wk',\n",
       " 'smartphone',\n",
       " 'ordinary',\n",
       " 'akdom',\n",
       " 'touchesfinal',\n",
       " 'stay',\n",
       " 'raw',\n",
       " 'limits',\n",
       " 'flash5',\n",
       " 'performanc',\n",
       " 'needsbattery',\n",
       " 'goodor',\n",
       " 'phonecool',\n",
       " 'pricethankssriram',\n",
       " 'trade',\n",
       " 'starsthis',\n",
       " 'badcharge',\n",
       " 'responding2',\n",
       " 'themesetc',\n",
       " 'recordingand',\n",
       " '55display',\n",
       " '14999',\n",
       " 'def',\n",
       " 'talk',\n",
       " 'performancecamera',\n",
       " 'addon',\n",
       " 'complainging',\n",
       " 'workingcast',\n",
       " 'increase',\n",
       " 'outer',\n",
       " 'ensure',\n",
       " 'prey',\n",
       " 'deviceand',\n",
       " 'reasons1',\n",
       " 'customersthanks',\n",
       " 'weight',\n",
       " 'verifying',\n",
       " 'எனற',\n",
       " 'calla',\n",
       " 'scrrenshot',\n",
       " 'rechargeonly',\n",
       " 'modified',\n",
       " 'laps',\n",
       " 'hang3',\n",
       " '352018',\n",
       " 'lgq6',\n",
       " 'otps',\n",
       " 'iii',\n",
       " 'whiteother',\n",
       " 'youbut',\n",
       " 'sadthe',\n",
       " 'oftencamera',\n",
       " 'veheats',\n",
       " 'touchcons1',\n",
       " 'undi',\n",
       " 'ironhorrible',\n",
       " 'value',\n",
       " 'pack',\n",
       " 'likely',\n",
       " 'chargeweight',\n",
       " 'lotscreen',\n",
       " 'foa',\n",
       " 'tech',\n",
       " 'lenovomany',\n",
       " 'butcamera',\n",
       " 'resulation',\n",
       " 'technically',\n",
       " 'amusing',\n",
       " 'bettery',\n",
       " 'receaved',\n",
       " 'showingon',\n",
       " 'nero',\n",
       " 'notesound',\n",
       " 'prblms',\n",
       " 'markeven',\n",
       " 'available',\n",
       " 'hangingloved',\n",
       " 'fastno',\n",
       " 'normally3',\n",
       " 'feb',\n",
       " 'moment',\n",
       " 'deliverd',\n",
       " 'sapport',\n",
       " ...}"
      ]
     },
     "execution_count": 45,
     "metadata": {},
     "output_type": "execute_result"
    }
   ],
   "source": [
    "set(all_terms1)"
   ]
  },
  {
   "cell_type": "code",
   "execution_count": 46,
   "metadata": {},
   "outputs": [],
   "source": [
    "from nltk.stem import SnowballStemmer\n",
    "stemmer_s = SnowballStemmer(\"english\")\n",
    "\n",
    "# from nltk.stem import SnowballStemmer\n",
    "#stemmer_s = SnowballStemmer(\"english\")"
   ]
  },
  {
   "cell_type": "code",
   "execution_count": 47,
   "metadata": {},
   "outputs": [],
   "source": [
    "all_terms1_stemmed = [ stemmer_s.stem(word) for word in all_terms1]\n",
    "#all_terms1_stemmed = [stemmer_s.stem(word) for word on all_terms1]"
   ]
  },
  {
   "cell_type": "code",
   "execution_count": 48,
   "metadata": {},
   "outputs": [],
   "source": [
    "from nltk.stem import WordNetLemmatizer\n",
    "lemm = WordNetLemmatizer()"
   ]
  },
  {
   "cell_type": "code",
   "execution_count": 49,
   "metadata": {},
   "outputs": [],
   "source": [
    "all_terms1_lemm = [ lemm.lemmatize(word,pos='v') for word in all_terms1]"
   ]
  },
  {
   "cell_type": "code",
   "execution_count": 50,
   "metadata": {},
   "outputs": [
    {
     "name": "stdout",
     "output_type": "stream",
     "text": [
      "15939 16877\n"
     ]
    }
   ],
   "source": [
    "print(len(set(all_terms1_stemmed)),len(set(all_terms1_lemm)))"
   ]
  },
  {
   "cell_type": "markdown",
   "metadata": {},
   "source": [
    "Since stemmer reduces the total number of distinct words in the corpus, we will be using stemming for frequency based analysis"
   ]
  },
  {
   "cell_type": "markdown",
   "metadata": {},
   "source": [
    "lets build a udf\n",
    "\n",
    "- input : review \n",
    "- Tasks : All the above cleaning steps\n",
    "- Return : string of cleaned reveiw\n",
    "\n",
    "based on the outcome of this function, you should be able to add a new column in the data frame called as \"cleaned_review\""
   ]
  },
  {
   "cell_type": "code",
   "execution_count": 51,
   "metadata": {},
   "outputs": [],
   "source": [
    "def clean_txt(sent):\n",
    "    #Stripping white spaces before and after the text\n",
    "    sent = sent.strip()\n",
    "    #Replacing multiple spaces with a single space\n",
    "    result = re.sub(\"\\s+\", \" \", sent)\n",
    "    #Replacing Non-Alpha-numeric and non space charecters with nothing\n",
    "    result1 = re.sub(\"[^\\w\\s]\",\"\",result)\n",
    "    #Normalize case, stemm and remove shorter tokens\n",
    "    tokens = word_tokenize(result1.lower())\n",
    "    stemmed = [stemmer_s.stem(term) for term in tokens \\\n",
    "               if term not in stop_updated and \\\n",
    "               len(term) > 2] \n",
    "    #Join all to form a single string which will be returned from the UDF       \n",
    "    res = \" \".join(stemmed)\n",
    "    return res  "
   ]
  },
  {
   "cell_type": "code",
   "execution_count": 52,
   "metadata": {},
   "outputs": [],
   "source": [
    "reviews['clean_review'] = reviews.review.apply(clean_txt)"
   ]
  },
  {
   "cell_type": "code",
   "execution_count": 53,
   "metadata": {},
   "outputs": [
    {
     "data": {
      "text/html": [
       "<div>\n",
       "<style scoped>\n",
       "    .dataframe tbody tr th:only-of-type {\n",
       "        vertical-align: middle;\n",
       "    }\n",
       "\n",
       "    .dataframe tbody tr th {\n",
       "        vertical-align: top;\n",
       "    }\n",
       "\n",
       "    .dataframe thead th {\n",
       "        text-align: right;\n",
       "    }\n",
       "</style>\n",
       "<table border=\"1\" class=\"dataframe\">\n",
       "  <thead>\n",
       "    <tr style=\"text-align: right;\">\n",
       "      <th></th>\n",
       "      <th>sentiment</th>\n",
       "      <th>review</th>\n",
       "      <th>clean_review</th>\n",
       "    </tr>\n",
       "  </thead>\n",
       "  <tbody>\n",
       "    <tr>\n",
       "      <th>0</th>\n",
       "      <td>1</td>\n",
       "      <td>Good but need updates and improvements</td>\n",
       "      <td>good need updat improv</td>\n",
       "    </tr>\n",
       "    <tr>\n",
       "      <th>1</th>\n",
       "      <td>0</td>\n",
       "      <td>Worst mobile i have bought ever, Battery is dr...</td>\n",
       "      <td>worst bought ever batteri drain like hell back...</td>\n",
       "    </tr>\n",
       "    <tr>\n",
       "      <th>2</th>\n",
       "      <td>1</td>\n",
       "      <td>when I will get my 10% cash back.... its alrea...</td>\n",
       "      <td>get cash back alreadi januari</td>\n",
       "    </tr>\n",
       "    <tr>\n",
       "      <th>3</th>\n",
       "      <td>1</td>\n",
       "      <td>Good</td>\n",
       "      <td>good</td>\n",
       "    </tr>\n",
       "    <tr>\n",
       "      <th>4</th>\n",
       "      <td>0</td>\n",
       "      <td>The worst phone everThey have changed the last...</td>\n",
       "      <td>worst everthey chang last problem still amazon...</td>\n",
       "    </tr>\n",
       "  </tbody>\n",
       "</table>\n",
       "</div>"
      ],
      "text/plain": [
       "   sentiment                                             review  \\\n",
       "0          1             Good but need updates and improvements   \n",
       "1          0  Worst mobile i have bought ever, Battery is dr...   \n",
       "2          1  when I will get my 10% cash back.... its alrea...   \n",
       "3          1                                               Good   \n",
       "4          0  The worst phone everThey have changed the last...   \n",
       "\n",
       "                                        clean_review  \n",
       "0                             good need updat improv  \n",
       "1  worst bought ever batteri drain like hell back...  \n",
       "2                      get cash back alreadi januari  \n",
       "3                                               good  \n",
       "4  worst everthey chang last problem still amazon...  "
      ]
     },
     "execution_count": 53,
     "metadata": {},
     "output_type": "execute_result"
    }
   ],
   "source": [
    "reviews.head()"
   ]
  },
  {
   "cell_type": "markdown",
   "metadata": {},
   "source": [
    "\n",
    "\n",
    "# Word cloud on cleaned dataset"
   ]
  },
  {
   "cell_type": "code",
   "execution_count": 54,
   "metadata": {},
   "outputs": [],
   "source": [
    "reviews_combined_clean = \" \".join(reviews.clean_review.values)"
   ]
  },
  {
   "cell_type": "code",
   "execution_count": 55,
   "metadata": {},
   "outputs": [
    {
     "data": {
      "text/plain": [
       "'good need updat improv worst bought ever batteri drain like hell backup hour internet use even put idl get dischargedthi biggest lie amazon lenov expect make full say batteri 4000mah booster charger fake take least hour fulli chargeddont know surviv make full uspleas dont els regret like get cash back alreadi januari good worst everthey chang last problem still amazon return high disappoint amazon tell dont buyim total disappointedpoor batterypoor camerawast money awesom charg heat allotr genuin'"
      ]
     },
     "execution_count": 55,
     "metadata": {},
     "output_type": "execute_result"
    }
   ],
   "source": [
    "reviews_combined_clean[:500]"
   ]
  },
  {
   "cell_type": "code",
   "execution_count": 56,
   "metadata": {},
   "outputs": [],
   "source": [
    "word_cloud = WordCloud(width=800,height=800,background_color='white',max_words=150).\\\n",
    "generate_from_text(reviews_combined_clean)"
   ]
  },
  {
   "cell_type": "code",
   "execution_count": 57,
   "metadata": {},
   "outputs": [
    {
     "data": {
      "image/png": "[encoded data removed]",
      "text/plain": [
       "<Figure size 576x576 with 1 Axes>"
      ]
     },
     "metadata": {
      "needs_background": "light"
     },
     "output_type": "display_data"
    }
   ],
   "source": [
    "plt.figure(figsize=[8,8])\n",
    "plt.imshow(word_cloud)\n",
    "plt.show()"
   ]
  },
  {
   "cell_type": "markdown",
   "metadata": {},
   "source": [
    "# Bar Graph on top 25 words"
   ]
  },
  {
   "cell_type": "code",
   "execution_count": 58,
   "metadata": {},
   "outputs": [],
   "source": [
    "from nltk.probability import FreqDist\n",
    "all_terms = word_tokenize(reviews_combined_clean)\n",
    "fdist = FreqDist(all_terms)"
   ]
  },
  {
   "cell_type": "code",
   "execution_count": 59,
   "metadata": {},
   "outputs": [],
   "source": [
    "#From the dict obtain a data frame of words and freq's\n",
    "df_dist = pd.DataFrame(fdist.items(), columns = [\"words\",\"freq\"])"
   ]
  },
  {
   "cell_type": "code",
   "execution_count": 60,
   "metadata": {},
   "outputs": [
    {
     "data": {
      "text/plain": [
       "<matplotlib.axes._subplots.AxesSubplot at 0x1fb6748b160>"
      ]
     },
     "execution_count": 60,
     "metadata": {},
     "output_type": "execute_result"
    },
    {
     "data": {
      "image/png": "[encoded data removed]",
      "text/plain": [
       "<Figure size 1440x360 with 1 Axes>"
      ]
     },
     "metadata": {
      "needs_background": "light"
     },
     "output_type": "display_data"
    }
   ],
   "source": [
    "%matplotlib inline\n",
    "df_dist.sort_values(ascending=False, by=\"freq\").head(25).\\\n",
    "plot.bar(x= \"words\", y= \"freq\",figsize=(20,5)) "
   ]
  },
  {
   "cell_type": "markdown",
   "metadata": {},
   "source": [
    "# Plot the bar graph for top 25 frequenctly used bigrams"
   ]
  },
  {
   "cell_type": "code",
   "execution_count": 61,
   "metadata": {},
   "outputs": [],
   "source": [
    "from sklearn.feature_extraction.text import CountVectorizer\n",
    "#from sklearn.feature_extraction.text import CountVectorizer"
   ]
  },
  {
   "cell_type": "code",
   "execution_count": 62,
   "metadata": {},
   "outputs": [],
   "source": [
    "# create a bigram count vectorizer object\n",
    "bigram_count_vectorizer = CountVectorizer(ngram_range=(2,2),max_features=150)\n",
    "#bigram_count_vectorizer = CountVectorizer(ngram_range = (2,2), max_features = 150)"
   ]
  },
  {
   "cell_type": "code",
   "execution_count": 63,
   "metadata": {},
   "outputs": [],
   "source": [
    "X_bigram = bigram_count_vectorizer.fit_transform(reviews['clean_review'])\n",
    "\n",
    "#X_bigram = bigram_count_vectorizer.fit_transform(reviews['clean_review'])\n",
    "\n",
    "# Creating a DTM\n",
    "DTM_bigram = pd.DataFrame(X_bigram.toarray(), columns=bigram_count_vectorizer.get_feature_names())\n",
    "\n",
    "#DTM_bigram = pd.DataFrame(X_bigram.toarray(), columns = bigram_count_vectorizer.get_feature_names())"
   ]
  },
  {
   "cell_type": "code",
   "execution_count": 64,
   "metadata": {},
   "outputs": [
    {
     "data": {
      "text/html": [
       "<div>\n",
       "<style scoped>\n",
       "    .dataframe tbody tr th:only-of-type {\n",
       "        vertical-align: middle;\n",
       "    }\n",
       "\n",
       "    .dataframe tbody tr th {\n",
       "        vertical-align: top;\n",
       "    }\n",
       "\n",
       "    .dataframe thead th {\n",
       "        text-align: right;\n",
       "    }\n",
       "</style>\n",
       "<table border=\"1\" class=\"dataframe\">\n",
       "  <thead>\n",
       "    <tr style=\"text-align: right;\">\n",
       "      <th></th>\n",
       "      <th>4000 mah</th>\n",
       "      <th>4gb ram</th>\n",
       "      <th>also good</th>\n",
       "      <th>back camera</th>\n",
       "      <th>backup good</th>\n",
       "      <th>bad experi</th>\n",
       "      <th>bad product</th>\n",
       "      <th>batteri back</th>\n",
       "      <th>batteri backup</th>\n",
       "      <th>batteri charg</th>\n",
       "      <th>...</th>\n",
       "      <th>want return</th>\n",
       "      <th>wast money</th>\n",
       "      <th>work fine</th>\n",
       "      <th>work good</th>\n",
       "      <th>work proper</th>\n",
       "      <th>work well</th>\n",
       "      <th>worst ever</th>\n",
       "      <th>worst product</th>\n",
       "      <th>worth buy</th>\n",
       "      <th>worth money</th>\n",
       "    </tr>\n",
       "  </thead>\n",
       "  <tbody>\n",
       "    <tr>\n",
       "      <th>0</th>\n",
       "      <td>0</td>\n",
       "      <td>0</td>\n",
       "      <td>0</td>\n",
       "      <td>0</td>\n",
       "      <td>0</td>\n",
       "      <td>0</td>\n",
       "      <td>0</td>\n",
       "      <td>0</td>\n",
       "      <td>0</td>\n",
       "      <td>0</td>\n",
       "      <td>...</td>\n",
       "      <td>0</td>\n",
       "      <td>0</td>\n",
       "      <td>0</td>\n",
       "      <td>0</td>\n",
       "      <td>0</td>\n",
       "      <td>0</td>\n",
       "      <td>0</td>\n",
       "      <td>0</td>\n",
       "      <td>0</td>\n",
       "      <td>0</td>\n",
       "    </tr>\n",
       "    <tr>\n",
       "      <th>1</th>\n",
       "      <td>0</td>\n",
       "      <td>0</td>\n",
       "      <td>0</td>\n",
       "      <td>0</td>\n",
       "      <td>0</td>\n",
       "      <td>0</td>\n",
       "      <td>0</td>\n",
       "      <td>0</td>\n",
       "      <td>0</td>\n",
       "      <td>0</td>\n",
       "      <td>...</td>\n",
       "      <td>0</td>\n",
       "      <td>0</td>\n",
       "      <td>0</td>\n",
       "      <td>0</td>\n",
       "      <td>0</td>\n",
       "      <td>0</td>\n",
       "      <td>0</td>\n",
       "      <td>0</td>\n",
       "      <td>0</td>\n",
       "      <td>0</td>\n",
       "    </tr>\n",
       "    <tr>\n",
       "      <th>2</th>\n",
       "      <td>0</td>\n",
       "      <td>0</td>\n",
       "      <td>0</td>\n",
       "      <td>0</td>\n",
       "      <td>0</td>\n",
       "      <td>0</td>\n",
       "      <td>0</td>\n",
       "      <td>0</td>\n",
       "      <td>0</td>\n",
       "      <td>0</td>\n",
       "      <td>...</td>\n",
       "      <td>0</td>\n",
       "      <td>0</td>\n",
       "      <td>0</td>\n",
       "      <td>0</td>\n",
       "      <td>0</td>\n",
       "      <td>0</td>\n",
       "      <td>0</td>\n",
       "      <td>0</td>\n",
       "      <td>0</td>\n",
       "      <td>0</td>\n",
       "    </tr>\n",
       "    <tr>\n",
       "      <th>3</th>\n",
       "      <td>0</td>\n",
       "      <td>0</td>\n",
       "      <td>0</td>\n",
       "      <td>0</td>\n",
       "      <td>0</td>\n",
       "      <td>0</td>\n",
       "      <td>0</td>\n",
       "      <td>0</td>\n",
       "      <td>0</td>\n",
       "      <td>0</td>\n",
       "      <td>...</td>\n",
       "      <td>0</td>\n",
       "      <td>0</td>\n",
       "      <td>0</td>\n",
       "      <td>0</td>\n",
       "      <td>0</td>\n",
       "      <td>0</td>\n",
       "      <td>0</td>\n",
       "      <td>0</td>\n",
       "      <td>0</td>\n",
       "      <td>0</td>\n",
       "    </tr>\n",
       "    <tr>\n",
       "      <th>4</th>\n",
       "      <td>0</td>\n",
       "      <td>0</td>\n",
       "      <td>0</td>\n",
       "      <td>0</td>\n",
       "      <td>0</td>\n",
       "      <td>0</td>\n",
       "      <td>0</td>\n",
       "      <td>0</td>\n",
       "      <td>0</td>\n",
       "      <td>0</td>\n",
       "      <td>...</td>\n",
       "      <td>0</td>\n",
       "      <td>0</td>\n",
       "      <td>0</td>\n",
       "      <td>0</td>\n",
       "      <td>0</td>\n",
       "      <td>0</td>\n",
       "      <td>0</td>\n",
       "      <td>0</td>\n",
       "      <td>0</td>\n",
       "      <td>0</td>\n",
       "    </tr>\n",
       "    <tr>\n",
       "      <th>5</th>\n",
       "      <td>0</td>\n",
       "      <td>0</td>\n",
       "      <td>0</td>\n",
       "      <td>0</td>\n",
       "      <td>0</td>\n",
       "      <td>0</td>\n",
       "      <td>0</td>\n",
       "      <td>0</td>\n",
       "      <td>0</td>\n",
       "      <td>0</td>\n",
       "      <td>...</td>\n",
       "      <td>0</td>\n",
       "      <td>0</td>\n",
       "      <td>0</td>\n",
       "      <td>0</td>\n",
       "      <td>0</td>\n",
       "      <td>0</td>\n",
       "      <td>0</td>\n",
       "      <td>0</td>\n",
       "      <td>0</td>\n",
       "      <td>0</td>\n",
       "    </tr>\n",
       "    <tr>\n",
       "      <th>6</th>\n",
       "      <td>0</td>\n",
       "      <td>0</td>\n",
       "      <td>0</td>\n",
       "      <td>0</td>\n",
       "      <td>0</td>\n",
       "      <td>0</td>\n",
       "      <td>0</td>\n",
       "      <td>0</td>\n",
       "      <td>0</td>\n",
       "      <td>0</td>\n",
       "      <td>...</td>\n",
       "      <td>0</td>\n",
       "      <td>0</td>\n",
       "      <td>0</td>\n",
       "      <td>0</td>\n",
       "      <td>0</td>\n",
       "      <td>0</td>\n",
       "      <td>0</td>\n",
       "      <td>0</td>\n",
       "      <td>0</td>\n",
       "      <td>0</td>\n",
       "    </tr>\n",
       "    <tr>\n",
       "      <th>7</th>\n",
       "      <td>0</td>\n",
       "      <td>0</td>\n",
       "      <td>0</td>\n",
       "      <td>0</td>\n",
       "      <td>0</td>\n",
       "      <td>0</td>\n",
       "      <td>0</td>\n",
       "      <td>0</td>\n",
       "      <td>0</td>\n",
       "      <td>0</td>\n",
       "      <td>...</td>\n",
       "      <td>0</td>\n",
       "      <td>0</td>\n",
       "      <td>0</td>\n",
       "      <td>0</td>\n",
       "      <td>0</td>\n",
       "      <td>0</td>\n",
       "      <td>0</td>\n",
       "      <td>0</td>\n",
       "      <td>0</td>\n",
       "      <td>0</td>\n",
       "    </tr>\n",
       "    <tr>\n",
       "      <th>8</th>\n",
       "      <td>0</td>\n",
       "      <td>0</td>\n",
       "      <td>0</td>\n",
       "      <td>0</td>\n",
       "      <td>0</td>\n",
       "      <td>0</td>\n",
       "      <td>0</td>\n",
       "      <td>0</td>\n",
       "      <td>0</td>\n",
       "      <td>0</td>\n",
       "      <td>...</td>\n",
       "      <td>0</td>\n",
       "      <td>0</td>\n",
       "      <td>0</td>\n",
       "      <td>0</td>\n",
       "      <td>0</td>\n",
       "      <td>0</td>\n",
       "      <td>0</td>\n",
       "      <td>0</td>\n",
       "      <td>0</td>\n",
       "      <td>0</td>\n",
       "    </tr>\n",
       "    <tr>\n",
       "      <th>9</th>\n",
       "      <td>0</td>\n",
       "      <td>0</td>\n",
       "      <td>0</td>\n",
       "      <td>0</td>\n",
       "      <td>0</td>\n",
       "      <td>0</td>\n",
       "      <td>0</td>\n",
       "      <td>0</td>\n",
       "      <td>0</td>\n",
       "      <td>0</td>\n",
       "      <td>...</td>\n",
       "      <td>0</td>\n",
       "      <td>0</td>\n",
       "      <td>0</td>\n",
       "      <td>0</td>\n",
       "      <td>0</td>\n",
       "      <td>0</td>\n",
       "      <td>0</td>\n",
       "      <td>0</td>\n",
       "      <td>0</td>\n",
       "      <td>0</td>\n",
       "    </tr>\n",
       "    <tr>\n",
       "      <th>10</th>\n",
       "      <td>0</td>\n",
       "      <td>0</td>\n",
       "      <td>0</td>\n",
       "      <td>0</td>\n",
       "      <td>0</td>\n",
       "      <td>0</td>\n",
       "      <td>0</td>\n",
       "      <td>0</td>\n",
       "      <td>0</td>\n",
       "      <td>0</td>\n",
       "      <td>...</td>\n",
       "      <td>0</td>\n",
       "      <td>0</td>\n",
       "      <td>0</td>\n",
       "      <td>0</td>\n",
       "      <td>0</td>\n",
       "      <td>0</td>\n",
       "      <td>0</td>\n",
       "      <td>0</td>\n",
       "      <td>0</td>\n",
       "      <td>0</td>\n",
       "    </tr>\n",
       "    <tr>\n",
       "      <th>11</th>\n",
       "      <td>0</td>\n",
       "      <td>0</td>\n",
       "      <td>0</td>\n",
       "      <td>0</td>\n",
       "      <td>0</td>\n",
       "      <td>0</td>\n",
       "      <td>0</td>\n",
       "      <td>0</td>\n",
       "      <td>0</td>\n",
       "      <td>0</td>\n",
       "      <td>...</td>\n",
       "      <td>0</td>\n",
       "      <td>0</td>\n",
       "      <td>0</td>\n",
       "      <td>0</td>\n",
       "      <td>0</td>\n",
       "      <td>0</td>\n",
       "      <td>0</td>\n",
       "      <td>0</td>\n",
       "      <td>0</td>\n",
       "      <td>0</td>\n",
       "    </tr>\n",
       "    <tr>\n",
       "      <th>12</th>\n",
       "      <td>0</td>\n",
       "      <td>0</td>\n",
       "      <td>0</td>\n",
       "      <td>0</td>\n",
       "      <td>0</td>\n",
       "      <td>0</td>\n",
       "      <td>0</td>\n",
       "      <td>0</td>\n",
       "      <td>0</td>\n",
       "      <td>0</td>\n",
       "      <td>...</td>\n",
       "      <td>0</td>\n",
       "      <td>0</td>\n",
       "      <td>0</td>\n",
       "      <td>0</td>\n",
       "      <td>0</td>\n",
       "      <td>0</td>\n",
       "      <td>0</td>\n",
       "      <td>0</td>\n",
       "      <td>0</td>\n",
       "      <td>0</td>\n",
       "    </tr>\n",
       "    <tr>\n",
       "      <th>13</th>\n",
       "      <td>0</td>\n",
       "      <td>0</td>\n",
       "      <td>0</td>\n",
       "      <td>0</td>\n",
       "      <td>0</td>\n",
       "      <td>0</td>\n",
       "      <td>0</td>\n",
       "      <td>0</td>\n",
       "      <td>0</td>\n",
       "      <td>0</td>\n",
       "      <td>...</td>\n",
       "      <td>0</td>\n",
       "      <td>0</td>\n",
       "      <td>0</td>\n",
       "      <td>0</td>\n",
       "      <td>0</td>\n",
       "      <td>0</td>\n",
       "      <td>0</td>\n",
       "      <td>0</td>\n",
       "      <td>0</td>\n",
       "      <td>0</td>\n",
       "    </tr>\n",
       "    <tr>\n",
       "      <th>14</th>\n",
       "      <td>0</td>\n",
       "      <td>0</td>\n",
       "      <td>0</td>\n",
       "      <td>0</td>\n",
       "      <td>1</td>\n",
       "      <td>0</td>\n",
       "      <td>0</td>\n",
       "      <td>0</td>\n",
       "      <td>0</td>\n",
       "      <td>0</td>\n",
       "      <td>...</td>\n",
       "      <td>0</td>\n",
       "      <td>0</td>\n",
       "      <td>0</td>\n",
       "      <td>0</td>\n",
       "      <td>0</td>\n",
       "      <td>0</td>\n",
       "      <td>0</td>\n",
       "      <td>0</td>\n",
       "      <td>0</td>\n",
       "      <td>0</td>\n",
       "    </tr>\n",
       "    <tr>\n",
       "      <th>15</th>\n",
       "      <td>0</td>\n",
       "      <td>0</td>\n",
       "      <td>0</td>\n",
       "      <td>0</td>\n",
       "      <td>0</td>\n",
       "      <td>0</td>\n",
       "      <td>0</td>\n",
       "      <td>0</td>\n",
       "      <td>0</td>\n",
       "      <td>0</td>\n",
       "      <td>...</td>\n",
       "      <td>0</td>\n",
       "      <td>0</td>\n",
       "      <td>0</td>\n",
       "      <td>0</td>\n",
       "      <td>0</td>\n",
       "      <td>0</td>\n",
       "      <td>0</td>\n",
       "      <td>0</td>\n",
       "      <td>0</td>\n",
       "      <td>0</td>\n",
       "    </tr>\n",
       "    <tr>\n",
       "      <th>16</th>\n",
       "      <td>0</td>\n",
       "      <td>0</td>\n",
       "      <td>0</td>\n",
       "      <td>0</td>\n",
       "      <td>0</td>\n",
       "      <td>0</td>\n",
       "      <td>0</td>\n",
       "      <td>0</td>\n",
       "      <td>0</td>\n",
       "      <td>0</td>\n",
       "      <td>...</td>\n",
       "      <td>0</td>\n",
       "      <td>0</td>\n",
       "      <td>0</td>\n",
       "      <td>0</td>\n",
       "      <td>0</td>\n",
       "      <td>0</td>\n",
       "      <td>0</td>\n",
       "      <td>0</td>\n",
       "      <td>0</td>\n",
       "      <td>0</td>\n",
       "    </tr>\n",
       "    <tr>\n",
       "      <th>17</th>\n",
       "      <td>0</td>\n",
       "      <td>0</td>\n",
       "      <td>0</td>\n",
       "      <td>0</td>\n",
       "      <td>0</td>\n",
       "      <td>0</td>\n",
       "      <td>0</td>\n",
       "      <td>0</td>\n",
       "      <td>0</td>\n",
       "      <td>0</td>\n",
       "      <td>...</td>\n",
       "      <td>0</td>\n",
       "      <td>0</td>\n",
       "      <td>0</td>\n",
       "      <td>0</td>\n",
       "      <td>0</td>\n",
       "      <td>0</td>\n",
       "      <td>0</td>\n",
       "      <td>0</td>\n",
       "      <td>0</td>\n",
       "      <td>0</td>\n",
       "    </tr>\n",
       "    <tr>\n",
       "      <th>18</th>\n",
       "      <td>0</td>\n",
       "      <td>0</td>\n",
       "      <td>0</td>\n",
       "      <td>0</td>\n",
       "      <td>0</td>\n",
       "      <td>0</td>\n",
       "      <td>0</td>\n",
       "      <td>0</td>\n",
       "      <td>0</td>\n",
       "      <td>0</td>\n",
       "      <td>...</td>\n",
       "      <td>0</td>\n",
       "      <td>0</td>\n",
       "      <td>0</td>\n",
       "      <td>0</td>\n",
       "      <td>0</td>\n",
       "      <td>0</td>\n",
       "      <td>0</td>\n",
       "      <td>0</td>\n",
       "      <td>0</td>\n",
       "      <td>0</td>\n",
       "    </tr>\n",
       "    <tr>\n",
       "      <th>19</th>\n",
       "      <td>0</td>\n",
       "      <td>0</td>\n",
       "      <td>0</td>\n",
       "      <td>0</td>\n",
       "      <td>0</td>\n",
       "      <td>0</td>\n",
       "      <td>0</td>\n",
       "      <td>0</td>\n",
       "      <td>0</td>\n",
       "      <td>0</td>\n",
       "      <td>...</td>\n",
       "      <td>0</td>\n",
       "      <td>0</td>\n",
       "      <td>0</td>\n",
       "      <td>0</td>\n",
       "      <td>0</td>\n",
       "      <td>0</td>\n",
       "      <td>0</td>\n",
       "      <td>0</td>\n",
       "      <td>0</td>\n",
       "      <td>0</td>\n",
       "    </tr>\n",
       "  </tbody>\n",
       "</table>\n",
       "<p>20 rows × 150 columns</p>\n",
       "</div>"
      ],
      "text/plain": [
       "    4000 mah  4gb ram  also good  back camera  backup good  bad experi  \\\n",
       "0          0        0          0            0            0           0   \n",
       "1          0        0          0            0            0           0   \n",
       "2          0        0          0            0            0           0   \n",
       "3          0        0          0            0            0           0   \n",
       "4          0        0          0            0            0           0   \n",
       "5          0        0          0            0            0           0   \n",
       "6          0        0          0            0            0           0   \n",
       "7          0        0          0            0            0           0   \n",
       "8          0        0          0            0            0           0   \n",
       "9          0        0          0            0            0           0   \n",
       "10         0        0          0            0            0           0   \n",
       "11         0        0          0            0            0           0   \n",
       "12         0        0          0            0            0           0   \n",
       "13         0        0          0            0            0           0   \n",
       "14         0        0          0            0            1           0   \n",
       "15         0        0          0            0            0           0   \n",
       "16         0        0          0            0            0           0   \n",
       "17         0        0          0            0            0           0   \n",
       "18         0        0          0            0            0           0   \n",
       "19         0        0          0            0            0           0   \n",
       "\n",
       "    bad product  batteri back  batteri backup  batteri charg  ...  \\\n",
       "0             0             0               0              0  ...   \n",
       "1             0             0               0              0  ...   \n",
       "2             0             0               0              0  ...   \n",
       "3             0             0               0              0  ...   \n",
       "4             0             0               0              0  ...   \n",
       "5             0             0               0              0  ...   \n",
       "6             0             0               0              0  ...   \n",
       "7             0             0               0              0  ...   \n",
       "8             0             0               0              0  ...   \n",
       "9             0             0               0              0  ...   \n",
       "10            0             0               0              0  ...   \n",
       "11            0             0               0              0  ...   \n",
       "12            0             0               0              0  ...   \n",
       "13            0             0               0              0  ...   \n",
       "14            0             0               0              0  ...   \n",
       "15            0             0               0              0  ...   \n",
       "16            0             0               0              0  ...   \n",
       "17            0             0               0              0  ...   \n",
       "18            0             0               0              0  ...   \n",
       "19            0             0               0              0  ...   \n",
       "\n",
       "    want return  wast money  work fine  work good  work proper  work well  \\\n",
       "0             0           0          0          0            0          0   \n",
       "1             0           0          0          0            0          0   \n",
       "2             0           0          0          0            0          0   \n",
       "3             0           0          0          0            0          0   \n",
       "4             0           0          0          0            0          0   \n",
       "5             0           0          0          0            0          0   \n",
       "6             0           0          0          0            0          0   \n",
       "7             0           0          0          0            0          0   \n",
       "8             0           0          0          0            0          0   \n",
       "9             0           0          0          0            0          0   \n",
       "10            0           0          0          0            0          0   \n",
       "11            0           0          0          0            0          0   \n",
       "12            0           0          0          0            0          0   \n",
       "13            0           0          0          0            0          0   \n",
       "14            0           0          0          0            0          0   \n",
       "15            0           0          0          0            0          0   \n",
       "16            0           0          0          0            0          0   \n",
       "17            0           0          0          0            0          0   \n",
       "18            0           0          0          0            0          0   \n",
       "19            0           0          0          0            0          0   \n",
       "\n",
       "    worst ever  worst product  worth buy  worth money  \n",
       "0            0              0          0            0  \n",
       "1            0              0          0            0  \n",
       "2            0              0          0            0  \n",
       "3            0              0          0            0  \n",
       "4            0              0          0            0  \n",
       "5            0              0          0            0  \n",
       "6            0              0          0            0  \n",
       "7            0              0          0            0  \n",
       "8            0              0          0            0  \n",
       "9            0              0          0            0  \n",
       "10           0              0          0            0  \n",
       "11           0              0          0            0  \n",
       "12           0              0          0            0  \n",
       "13           0              0          0            0  \n",
       "14           0              0          0            0  \n",
       "15           0              0          0            0  \n",
       "16           0              0          0            0  \n",
       "17           0              0          0            0  \n",
       "18           0              0          0            0  \n",
       "19           0              0          0            0  \n",
       "\n",
       "[20 rows x 150 columns]"
      ]
     },
     "execution_count": 64,
     "metadata": {},
     "output_type": "execute_result"
    }
   ],
   "source": [
    "DTM_bigram.head(20)\n",
    "\n",
    "#DTM_bigram.head()"
   ]
  },
  {
   "cell_type": "code",
   "execution_count": 65,
   "metadata": {},
   "outputs": [
    {
     "data": {
      "text/plain": [
       "['4000 mah',\n",
       " '4gb ram',\n",
       " 'also good',\n",
       " 'back camera',\n",
       " 'backup good',\n",
       " 'bad experi',\n",
       " 'bad product',\n",
       " 'batteri back',\n",
       " 'batteri backup',\n",
       " 'batteri charg',\n",
       " 'batteri drain',\n",
       " 'batteri get',\n",
       " 'batteri good',\n",
       " 'batteri heat',\n",
       " 'batteri last',\n",
       " 'batteri life',\n",
       " 'batteri perform',\n",
       " 'batteri problem',\n",
       " 'best price',\n",
       " 'build qualiti']"
      ]
     },
     "execution_count": 65,
     "metadata": {},
     "output_type": "execute_result"
    }
   ],
   "source": [
    "bigram_count_vectorizer.get_feature_names()[:20]"
   ]
  },
  {
   "cell_type": "code",
   "execution_count": 66,
   "metadata": {
    "scrolled": true
   },
   "outputs": [
    {
     "data": {
      "text/plain": [
       "<matplotlib.axes._subplots.AxesSubplot at 0x1fb690a18d0>"
      ]
     },
     "execution_count": 66,
     "metadata": {},
     "output_type": "execute_result"
    },
    {
     "data": {
      "image/png": "[encoded data removed]",
      "text/plain": [
       "<Figure size 1440x360 with 1 Axes>"
      ]
     },
     "metadata": {
      "needs_background": "light"
     },
     "output_type": "display_data"
    }
   ],
   "source": [
    "DTM_bigram.sum().sort_values(ascending=False).head(25).plot.bar(figsize=(20,5))  \n",
    "\n",
    "#DTM_bigram.sum().sort_values(ascending = False).head(25).plot.bar(figsize = (20,5))"
   ]
  },
  {
   "cell_type": "markdown",
   "metadata": {},
   "source": [
    "In the amazon case study dataset\n",
    "Find the top 5 relavent reviews which has the below words\n",
    "\n",
    " - \"battery drain\"\n",
    " - \"Good camera\""
   ]
  },
  {
   "cell_type": "code",
   "execution_count": 67,
   "metadata": {},
   "outputs": [],
   "source": [
    "from sklearn.feature_extraction.text import TfidfVectorizer\n",
    "#from sklearn.feature_extraction.text import TfidfVectorizer"
   ]
  },
  {
   "cell_type": "code",
   "execution_count": 68,
   "metadata": {},
   "outputs": [],
   "source": [
    "# create a bigram count vectorizer object\n",
    "bigram_tfidf_vectorizer = TfidfVectorizer(ngram_range=(2,2),max_features = 150)\n",
    "\n",
    "#bigram_tfidf_vectorizer = TfidfVectorizer(ngram_range = (2,2), max_features = 150)"
   ]
  },
  {
   "cell_type": "code",
   "execution_count": 69,
   "metadata": {},
   "outputs": [],
   "source": [
    "X_bigram = bigram_tfidf_vectorizer.fit_transform(reviews['clean_review'])\n",
    "\n",
    "# Creating a DTM\n",
    "DTM_bigram = pd.DataFrame(X_bigram.toarray(), \n",
    "                          columns=bigram_tfidf_vectorizer.get_feature_names())\n",
    "#bigram_count_vectorizer.get_feature_names()[:20]"
   ]
  },
  {
   "cell_type": "code",
   "execution_count": 70,
   "metadata": {},
   "outputs": [
    {
     "data": {
      "text/plain": [
       "1016     1.0\n",
       "955      1.0\n",
       "7985     1.0\n",
       "10778    1.0\n",
       "8039     1.0\n",
       "Name: batteri drain, dtype: float64"
      ]
     },
     "execution_count": 70,
     "metadata": {},
     "output_type": "execute_result"
    }
   ],
   "source": [
    "DTM_bigram['batteri drain'].sort_values(ascending=False).head(5)"
   ]
  },
  {
   "cell_type": "code",
   "execution_count": 71,
   "metadata": {},
   "outputs": [
    {
     "data": {
      "text/plain": [
       "6259     1.0\n",
       "9615     1.0\n",
       "2447     1.0\n",
       "4899     1.0\n",
       "13420    1.0\n",
       "Name: good camera, dtype: float64"
      ]
     },
     "execution_count": 71,
     "metadata": {},
     "output_type": "execute_result"
    }
   ],
   "source": [
    "DTM_bigram['good camera'].sort_values(ascending=False).head(5)"
   ]
  },
  {
   "cell_type": "markdown",
   "metadata": {},
   "source": [
    "### Sentiment Prediction Strategy 1: Building our own model based on the Sentiment labels"
   ]
  },
  {
   "cell_type": "markdown",
   "metadata": {},
   "source": [
    "Applying Supervised learning on labelled text data -  In this case we will leverage the sentiment label which is available along with the text data"
   ]
  },
  {
   "cell_type": "markdown",
   "metadata": {},
   "source": [
    "Steps\n",
    "- Step1: Seperate out the X and y\n",
    "- Step2: converting text to numbers (countvectorizer or tfidfvectorizer)\n",
    "- Step3: Split into test and train\n",
    "- Step4: train the model\n",
    "- Step5: test and get the accuracy scores\n",
    "- Step6: Make predictions for an Input Review"
   ]
  },
  {
   "cell_type": "code",
   "execution_count": 72,
   "metadata": {},
   "outputs": [],
   "source": [
    "X_text = reviews.clean_review.values\n",
    "y = reviews.sentiment.values\n",
    "\n",
    "#X_text = reviews.clean_review.values\n",
    "#y = reviews.sentiment.values"
   ]
  },
  {
   "cell_type": "code",
   "execution_count": 73,
   "metadata": {},
   "outputs": [],
   "source": [
    "count_vect = CountVectorizer(max_features=3500)\n",
    "X = count_vect.fit_transform(X_text)"
   ]
  },
  {
   "cell_type": "code",
   "execution_count": 74,
   "metadata": {},
   "outputs": [],
   "source": [
    "from sklearn.model_selection import train_test_split\n",
    "X_train,X_test,y_train,y_test = train_test_split(X,y,test_size=0.20,\n",
    "                                                 random_state=42)"
   ]
  },
  {
   "cell_type": "code",
   "execution_count": 75,
   "metadata": {},
   "outputs": [],
   "source": [
    "from sklearn.linear_model import LogisticRegression\n",
    "logreg = LogisticRegression()"
   ]
  },
  {
   "cell_type": "code",
   "execution_count": 76,
   "metadata": {},
   "outputs": [
    {
     "name": "stderr",
     "output_type": "stream",
     "text": [
      "C:\\Users\\Dell\\Anaconda3\\lib\\site-packages\\sklearn\\linear_model\\logistic.py:432: FutureWarning: Default solver will be changed to 'lbfgs' in 0.22. Specify a solver to silence this warning.\n",
      "  FutureWarning)\n"
     ]
    },
    {
     "data": {
      "text/plain": [
       "LogisticRegression(C=1.0, class_weight=None, dual=False, fit_intercept=True,\n",
       "                   intercept_scaling=1, l1_ratio=None, max_iter=100,\n",
       "                   multi_class='warn', n_jobs=None, penalty='l2',\n",
       "                   random_state=None, solver='warn', tol=0.0001, verbose=0,\n",
       "                   warm_start=False)"
      ]
     },
     "execution_count": 76,
     "metadata": {},
     "output_type": "execute_result"
    }
   ],
   "source": [
    "logreg.fit(X_train,y_train)"
   ]
  },
  {
   "cell_type": "code",
   "execution_count": 77,
   "metadata": {},
   "outputs": [],
   "source": [
    "y_pred = logreg.predict(X_test)"
   ]
  },
  {
   "cell_type": "code",
   "execution_count": 78,
   "metadata": {},
   "outputs": [],
   "source": [
    "from sklearn.metrics import accuracy_score, confusion_matrix"
   ]
  },
  {
   "cell_type": "code",
   "execution_count": 79,
   "metadata": {},
   "outputs": [
    {
     "data": {
      "text/plain": [
       "0.8453151618398637"
      ]
     },
     "execution_count": 79,
     "metadata": {},
     "output_type": "execute_result"
    }
   ],
   "source": [
    "accuracy_score(y_test,y_pred)"
   ]
  },
  {
   "cell_type": "code",
   "execution_count": 80,
   "metadata": {},
   "outputs": [],
   "source": [
    "#Make Predictions:\n",
    "review1 = \"This is a fantastic mobile really like it but the battery drains fast\"\n",
    "review2 = \"Camera is good but when I speak over phone continuously over long time it gets\\\n",
    "heated up\""
   ]
  },
  {
   "cell_type": "code",
   "execution_count": 81,
   "metadata": {},
   "outputs": [],
   "source": [
    "review = [review1,review2]"
   ]
  },
  {
   "cell_type": "code",
   "execution_count": 82,
   "metadata": {},
   "outputs": [],
   "source": [
    "c_review = list(map(clean_txt, review))"
   ]
  },
  {
   "cell_type": "code",
   "execution_count": 83,
   "metadata": {},
   "outputs": [],
   "source": [
    "X_test_new = count_vect.transform(c_review)"
   ]
  },
  {
   "cell_type": "code",
   "execution_count": 84,
   "metadata": {},
   "outputs": [],
   "source": [
    "y_test_pred_new = logreg.predict(X_test_new)"
   ]
  },
  {
   "cell_type": "code",
   "execution_count": 85,
   "metadata": {},
   "outputs": [
    {
     "data": {
      "text/plain": [
       "array([1, 1], dtype=int64)"
      ]
     },
     "execution_count": 85,
     "metadata": {},
     "output_type": "execute_result"
    }
   ],
   "source": [
    "y_test_pred_new"
   ]
  },
  {
   "cell_type": "code",
   "execution_count": 86,
   "metadata": {},
   "outputs": [],
   "source": [
    "from sklearn.naive_bayes import MultinomialNB"
   ]
  },
  {
   "cell_type": "code",
   "execution_count": 87,
   "metadata": {},
   "outputs": [],
   "source": [
    "nb = MultinomialNB()"
   ]
  },
  {
   "cell_type": "code",
   "execution_count": 88,
   "metadata": {
    "scrolled": true
   },
   "outputs": [
    {
     "data": {
      "text/plain": [
       "MultinomialNB(alpha=1.0, class_prior=None, fit_prior=True)"
      ]
     },
     "execution_count": 88,
     "metadata": {},
     "output_type": "execute_result"
    }
   ],
   "source": [
    "nb.fit(X_train,y_train)"
   ]
  },
  {
   "cell_type": "code",
   "execution_count": 89,
   "metadata": {},
   "outputs": [],
   "source": [
    "y_test_pred = nb.predict(X_test)"
   ]
  },
  {
   "cell_type": "code",
   "execution_count": 90,
   "metadata": {},
   "outputs": [
    {
     "data": {
      "text/plain": [
       "0.8429301533219762"
      ]
     },
     "execution_count": 90,
     "metadata": {},
     "output_type": "execute_result"
    }
   ],
   "source": [
    "accuracy_score(y_test, y_test_pred)"
   ]
  },
  {
   "cell_type": "code",
   "execution_count": 91,
   "metadata": {},
   "outputs": [],
   "source": [
    "y_test_pred_new = nb.predict(X_test_new)"
   ]
  },
  {
   "cell_type": "code",
   "execution_count": 92,
   "metadata": {},
   "outputs": [
    {
     "data": {
      "text/plain": [
       "array([1, 1], dtype=int64)"
      ]
     },
     "execution_count": 92,
     "metadata": {},
     "output_type": "execute_result"
    }
   ],
   "source": [
    "y_test_pred_new"
   ]
  },
  {
   "cell_type": "markdown",
   "metadata": {},
   "source": [
    "# Sentiment Classification"
   ]
  },
  {
   "cell_type": "markdown",
   "metadata": {},
   "source": [
    "### Sentiment Prediction Strategy 1: Word based scoring "
   ]
  },
  {
   "cell_type": "code",
   "execution_count": 93,
   "metadata": {},
   "outputs": [],
   "source": [
    "afinn = pd.read_csv(\"AFINN-111.txt\", sep=\"\\t\", header=None)\n",
    "afinn.columns = ['Term','Score']\n",
    "term_scores = dict(afinn.values)"
   ]
  },
  {
   "cell_type": "code",
   "execution_count": 94,
   "metadata": {},
   "outputs": [],
   "source": [
    "def get_sentiment(sent):\n",
    "    tokens = word_tokenize(sent.lower())\n",
    "    score = 0\n",
    "    for term in tokens:\n",
    "        score += term_scores.get(term,0)\n",
    "    return score"
   ]
  },
  {
   "cell_type": "code",
   "execution_count": 95,
   "metadata": {},
   "outputs": [],
   "source": [
    "reviews['sent_score_afinn'] = reviews.clean_review.apply(get_sentiment)"
   ]
  },
  {
   "cell_type": "code",
   "execution_count": 96,
   "metadata": {},
   "outputs": [
    {
     "data": {
      "text/html": [
       "<div>\n",
       "<style scoped>\n",
       "    .dataframe tbody tr th:only-of-type {\n",
       "        vertical-align: middle;\n",
       "    }\n",
       "\n",
       "    .dataframe tbody tr th {\n",
       "        vertical-align: top;\n",
       "    }\n",
       "\n",
       "    .dataframe thead th {\n",
       "        text-align: right;\n",
       "    }\n",
       "</style>\n",
       "<table border=\"1\" class=\"dataframe\">\n",
       "  <thead>\n",
       "    <tr style=\"text-align: right;\">\n",
       "      <th></th>\n",
       "      <th>sentiment</th>\n",
       "      <th>review</th>\n",
       "      <th>clean_review</th>\n",
       "      <th>sent_score_afinn</th>\n",
       "    </tr>\n",
       "  </thead>\n",
       "  <tbody>\n",
       "    <tr>\n",
       "      <th>0</th>\n",
       "      <td>1</td>\n",
       "      <td>Good but need updates and improvements</td>\n",
       "      <td>good need updat improv</td>\n",
       "      <td>3</td>\n",
       "    </tr>\n",
       "    <tr>\n",
       "      <th>1</th>\n",
       "      <td>0</td>\n",
       "      <td>Worst mobile i have bought ever, Battery is dr...</td>\n",
       "      <td>worst bought ever batteri drain like hell back...</td>\n",
       "      <td>-8</td>\n",
       "    </tr>\n",
       "    <tr>\n",
       "      <th>2</th>\n",
       "      <td>1</td>\n",
       "      <td>when I will get my 10% cash back.... its alrea...</td>\n",
       "      <td>get cash back alreadi januari</td>\n",
       "      <td>0</td>\n",
       "    </tr>\n",
       "    <tr>\n",
       "      <th>3</th>\n",
       "      <td>1</td>\n",
       "      <td>Good</td>\n",
       "      <td>good</td>\n",
       "      <td>3</td>\n",
       "    </tr>\n",
       "    <tr>\n",
       "      <th>4</th>\n",
       "      <td>0</td>\n",
       "      <td>The worst phone everThey have changed the last...</td>\n",
       "      <td>worst everthey chang last problem still amazon...</td>\n",
       "      <td>-7</td>\n",
       "    </tr>\n",
       "  </tbody>\n",
       "</table>\n",
       "</div>"
      ],
      "text/plain": [
       "   sentiment                                             review  \\\n",
       "0          1             Good but need updates and improvements   \n",
       "1          0  Worst mobile i have bought ever, Battery is dr...   \n",
       "2          1  when I will get my 10% cash back.... its alrea...   \n",
       "3          1                                               Good   \n",
       "4          0  The worst phone everThey have changed the last...   \n",
       "\n",
       "                                        clean_review  sent_score_afinn  \n",
       "0                             good need updat improv                 3  \n",
       "1  worst bought ever batteri drain like hell back...                -8  \n",
       "2                      get cash back alreadi januari                 0  \n",
       "3                                               good                 3  \n",
       "4  worst everthey chang last problem still amazon...                -7  "
      ]
     },
     "execution_count": 96,
     "metadata": {},
     "output_type": "execute_result"
    }
   ],
   "source": [
    "reviews.head()"
   ]
  },
  {
   "cell_type": "code",
   "execution_count": 97,
   "metadata": {},
   "outputs": [],
   "source": [
    "reviews['sent_prediction_afinn'] = \\\n",
    "reviews.sent_score_afinn.apply(lambda x:1 if x>0 else 0)"
   ]
  },
  {
   "cell_type": "code",
   "execution_count": 98,
   "metadata": {},
   "outputs": [
    {
     "data": {
      "text/html": [
       "<div>\n",
       "<style scoped>\n",
       "    .dataframe tbody tr th:only-of-type {\n",
       "        vertical-align: middle;\n",
       "    }\n",
       "\n",
       "    .dataframe tbody tr th {\n",
       "        vertical-align: top;\n",
       "    }\n",
       "\n",
       "    .dataframe thead th {\n",
       "        text-align: right;\n",
       "    }\n",
       "</style>\n",
       "<table border=\"1\" class=\"dataframe\">\n",
       "  <thead>\n",
       "    <tr style=\"text-align: right;\">\n",
       "      <th></th>\n",
       "      <th>sentiment</th>\n",
       "      <th>review</th>\n",
       "      <th>clean_review</th>\n",
       "      <th>sent_score_afinn</th>\n",
       "      <th>sent_prediction_afinn</th>\n",
       "    </tr>\n",
       "  </thead>\n",
       "  <tbody>\n",
       "    <tr>\n",
       "      <th>0</th>\n",
       "      <td>1</td>\n",
       "      <td>Good but need updates and improvements</td>\n",
       "      <td>good need updat improv</td>\n",
       "      <td>3</td>\n",
       "      <td>1</td>\n",
       "    </tr>\n",
       "    <tr>\n",
       "      <th>1</th>\n",
       "      <td>0</td>\n",
       "      <td>Worst mobile i have bought ever, Battery is dr...</td>\n",
       "      <td>worst bought ever batteri drain like hell back...</td>\n",
       "      <td>-8</td>\n",
       "      <td>0</td>\n",
       "    </tr>\n",
       "    <tr>\n",
       "      <th>2</th>\n",
       "      <td>1</td>\n",
       "      <td>when I will get my 10% cash back.... its alrea...</td>\n",
       "      <td>get cash back alreadi januari</td>\n",
       "      <td>0</td>\n",
       "      <td>0</td>\n",
       "    </tr>\n",
       "    <tr>\n",
       "      <th>3</th>\n",
       "      <td>1</td>\n",
       "      <td>Good</td>\n",
       "      <td>good</td>\n",
       "      <td>3</td>\n",
       "      <td>1</td>\n",
       "    </tr>\n",
       "    <tr>\n",
       "      <th>4</th>\n",
       "      <td>0</td>\n",
       "      <td>The worst phone everThey have changed the last...</td>\n",
       "      <td>worst everthey chang last problem still amazon...</td>\n",
       "      <td>-7</td>\n",
       "      <td>0</td>\n",
       "    </tr>\n",
       "  </tbody>\n",
       "</table>\n",
       "</div>"
      ],
      "text/plain": [
       "   sentiment                                             review  \\\n",
       "0          1             Good but need updates and improvements   \n",
       "1          0  Worst mobile i have bought ever, Battery is dr...   \n",
       "2          1  when I will get my 10% cash back.... its alrea...   \n",
       "3          1                                               Good   \n",
       "4          0  The worst phone everThey have changed the last...   \n",
       "\n",
       "                                        clean_review  sent_score_afinn  \\\n",
       "0                             good need updat improv                 3   \n",
       "1  worst bought ever batteri drain like hell back...                -8   \n",
       "2                      get cash back alreadi januari                 0   \n",
       "3                                               good                 3   \n",
       "4  worst everthey chang last problem still amazon...                -7   \n",
       "\n",
       "   sent_prediction_afinn  \n",
       "0                      1  \n",
       "1                      0  \n",
       "2                      0  \n",
       "3                      1  \n",
       "4                      0  "
      ]
     },
     "execution_count": 98,
     "metadata": {},
     "output_type": "execute_result"
    }
   ],
   "source": [
    "reviews.head()"
   ]
  },
  {
   "cell_type": "code",
   "execution_count": 99,
   "metadata": {},
   "outputs": [
    {
     "data": {
      "text/plain": [
       "<matplotlib.axes._subplots.AxesSubplot at 0x1fb6906c9e8>"
      ]
     },
     "execution_count": 99,
     "metadata": {},
     "output_type": "execute_result"
    },
    {
     "data": {
      "image/png": "[encoded data removed]",
      "text/plain": [
       "<Figure size 432x288 with 1 Axes>"
      ]
     },
     "metadata": {
      "needs_background": "light"
     },
     "output_type": "display_data"
    }
   ],
   "source": [
    "reviews.sent_score_afinn.hist()"
   ]
  },
  {
   "cell_type": "code",
   "execution_count": 100,
   "metadata": {},
   "outputs": [
    {
     "data": {
      "text/html": [
       "<div>\n",
       "<style scoped>\n",
       "    .dataframe tbody tr th:only-of-type {\n",
       "        vertical-align: middle;\n",
       "    }\n",
       "\n",
       "    .dataframe tbody tr th {\n",
       "        vertical-align: top;\n",
       "    }\n",
       "\n",
       "    .dataframe thead th {\n",
       "        text-align: right;\n",
       "    }\n",
       "</style>\n",
       "<table border=\"1\" class=\"dataframe\">\n",
       "  <thead>\n",
       "    <tr style=\"text-align: right;\">\n",
       "      <th></th>\n",
       "      <th>sentiment</th>\n",
       "      <th>review</th>\n",
       "      <th>clean_review</th>\n",
       "      <th>sent_score_afinn</th>\n",
       "      <th>sent_prediction_afinn</th>\n",
       "    </tr>\n",
       "  </thead>\n",
       "  <tbody>\n",
       "    <tr>\n",
       "      <th>0</th>\n",
       "      <td>1</td>\n",
       "      <td>Good but need updates and improvements</td>\n",
       "      <td>good need updat improv</td>\n",
       "      <td>3</td>\n",
       "      <td>1</td>\n",
       "    </tr>\n",
       "    <tr>\n",
       "      <th>1</th>\n",
       "      <td>0</td>\n",
       "      <td>Worst mobile i have bought ever, Battery is dr...</td>\n",
       "      <td>worst bought ever batteri drain like hell back...</td>\n",
       "      <td>-8</td>\n",
       "      <td>0</td>\n",
       "    </tr>\n",
       "    <tr>\n",
       "      <th>2</th>\n",
       "      <td>1</td>\n",
       "      <td>when I will get my 10% cash back.... its alrea...</td>\n",
       "      <td>get cash back alreadi januari</td>\n",
       "      <td>0</td>\n",
       "      <td>0</td>\n",
       "    </tr>\n",
       "    <tr>\n",
       "      <th>3</th>\n",
       "      <td>1</td>\n",
       "      <td>Good</td>\n",
       "      <td>good</td>\n",
       "      <td>3</td>\n",
       "      <td>1</td>\n",
       "    </tr>\n",
       "    <tr>\n",
       "      <th>4</th>\n",
       "      <td>0</td>\n",
       "      <td>The worst phone everThey have changed the last...</td>\n",
       "      <td>worst everthey chang last problem still amazon...</td>\n",
       "      <td>-7</td>\n",
       "      <td>0</td>\n",
       "    </tr>\n",
       "  </tbody>\n",
       "</table>\n",
       "</div>"
      ],
      "text/plain": [
       "   sentiment                                             review  \\\n",
       "0          1             Good but need updates and improvements   \n",
       "1          0  Worst mobile i have bought ever, Battery is dr...   \n",
       "2          1  when I will get my 10% cash back.... its alrea...   \n",
       "3          1                                               Good   \n",
       "4          0  The worst phone everThey have changed the last...   \n",
       "\n",
       "                                        clean_review  sent_score_afinn  \\\n",
       "0                             good need updat improv                 3   \n",
       "1  worst bought ever batteri drain like hell back...                -8   \n",
       "2                      get cash back alreadi januari                 0   \n",
       "3                                               good                 3   \n",
       "4  worst everthey chang last problem still amazon...                -7   \n",
       "\n",
       "   sent_prediction_afinn  \n",
       "0                      1  \n",
       "1                      0  \n",
       "2                      0  \n",
       "3                      1  \n",
       "4                      0  "
      ]
     },
     "execution_count": 100,
     "metadata": {},
     "output_type": "execute_result"
    }
   ],
   "source": [
    "reviews.head()"
   ]
  },
  {
   "cell_type": "code",
   "execution_count": 101,
   "metadata": {},
   "outputs": [],
   "source": [
    "from sklearn.metrics import confusion_matrix, accuracy_score"
   ]
  },
  {
   "cell_type": "code",
   "execution_count": 102,
   "metadata": {},
   "outputs": [
    {
     "data": {
      "text/plain": [
       "0.7103918228279387"
      ]
     },
     "execution_count": 102,
     "metadata": {},
     "output_type": "execute_result"
    }
   ],
   "source": [
    "accuracy_score(reviews.sentiment,reviews.sent_prediction_afinn)"
   ]
  },
  {
   "cell_type": "code",
   "execution_count": 103,
   "metadata": {},
   "outputs": [
    {
     "data": {
      "text/plain": [
       "array([[5147, 2565],\n",
       "       [1685, 5278]], dtype=int64)"
      ]
     },
     "execution_count": 103,
     "metadata": {},
     "output_type": "execute_result"
    }
   ],
   "source": [
    "confusion_matrix(reviews.sentiment,reviews.sent_prediction_afinn)"
   ]
  },
  {
   "cell_type": "code",
   "execution_count": 104,
   "metadata": {},
   "outputs": [],
   "source": [
    "def clean_txt_new(sent):\n",
    "    #Stripping white spaces before and after the text\n",
    "    sent = sent.strip()\n",
    "    #Replacing multiple spaces with a single space\n",
    "    result = re.sub(\"\\s+\", \" \", sent)\n",
    "    #Replacing Non-Alpha-numeric and non space charecters with nothing\n",
    "    result1 = re.sub(\"[^\\w\\s]\",\"\",result)\n",
    "    #Normalize case and remove shorter tokens\n",
    "    tokens = word_tokenize(result1.lower())\n",
    "    token_new = [(term) for term in tokens \\\n",
    "               if term not in stop_updated and \\\n",
    "               len(term) > 2] \n",
    "    #Join all to form a single string which will be returned from the UDF       \n",
    "    res = \" \".join(token_new)\n",
    "    return res"
   ]
  },
  {
   "cell_type": "code",
   "execution_count": 105,
   "metadata": {},
   "outputs": [],
   "source": [
    "reviews['clean_review_unstemmed'] = reviews.review.apply(clean_txt_new)"
   ]
  },
  {
   "cell_type": "code",
   "execution_count": 106,
   "metadata": {},
   "outputs": [
    {
     "data": {
      "text/html": [
       "<div>\n",
       "<style scoped>\n",
       "    .dataframe tbody tr th:only-of-type {\n",
       "        vertical-align: middle;\n",
       "    }\n",
       "\n",
       "    .dataframe tbody tr th {\n",
       "        vertical-align: top;\n",
       "    }\n",
       "\n",
       "    .dataframe thead th {\n",
       "        text-align: right;\n",
       "    }\n",
       "</style>\n",
       "<table border=\"1\" class=\"dataframe\">\n",
       "  <thead>\n",
       "    <tr style=\"text-align: right;\">\n",
       "      <th></th>\n",
       "      <th>sentiment</th>\n",
       "      <th>review</th>\n",
       "      <th>clean_review</th>\n",
       "      <th>sent_score_afinn</th>\n",
       "      <th>sent_prediction_afinn</th>\n",
       "      <th>clean_review_unstemmed</th>\n",
       "    </tr>\n",
       "  </thead>\n",
       "  <tbody>\n",
       "    <tr>\n",
       "      <th>0</th>\n",
       "      <td>1</td>\n",
       "      <td>Good but need updates and improvements</td>\n",
       "      <td>good need updat improv</td>\n",
       "      <td>3</td>\n",
       "      <td>1</td>\n",
       "      <td>good need updates improvements</td>\n",
       "    </tr>\n",
       "    <tr>\n",
       "      <th>1</th>\n",
       "      <td>0</td>\n",
       "      <td>Worst mobile i have bought ever, Battery is dr...</td>\n",
       "      <td>worst bought ever batteri drain like hell back...</td>\n",
       "      <td>-8</td>\n",
       "      <td>0</td>\n",
       "      <td>worst bought ever battery draining like hell b...</td>\n",
       "    </tr>\n",
       "    <tr>\n",
       "      <th>2</th>\n",
       "      <td>1</td>\n",
       "      <td>when I will get my 10% cash back.... its alrea...</td>\n",
       "      <td>get cash back alreadi januari</td>\n",
       "      <td>0</td>\n",
       "      <td>0</td>\n",
       "      <td>get cash back already january</td>\n",
       "    </tr>\n",
       "    <tr>\n",
       "      <th>3</th>\n",
       "      <td>1</td>\n",
       "      <td>Good</td>\n",
       "      <td>good</td>\n",
       "      <td>3</td>\n",
       "      <td>1</td>\n",
       "      <td>good</td>\n",
       "    </tr>\n",
       "    <tr>\n",
       "      <th>4</th>\n",
       "      <td>0</td>\n",
       "      <td>The worst phone everThey have changed the last...</td>\n",
       "      <td>worst everthey chang last problem still amazon...</td>\n",
       "      <td>-7</td>\n",
       "      <td>0</td>\n",
       "      <td>worst everthey changed last problem still amaz...</td>\n",
       "    </tr>\n",
       "  </tbody>\n",
       "</table>\n",
       "</div>"
      ],
      "text/plain": [
       "   sentiment                                             review  \\\n",
       "0          1             Good but need updates and improvements   \n",
       "1          0  Worst mobile i have bought ever, Battery is dr...   \n",
       "2          1  when I will get my 10% cash back.... its alrea...   \n",
       "3          1                                               Good   \n",
       "4          0  The worst phone everThey have changed the last...   \n",
       "\n",
       "                                        clean_review  sent_score_afinn  \\\n",
       "0                             good need updat improv                 3   \n",
       "1  worst bought ever batteri drain like hell back...                -8   \n",
       "2                      get cash back alreadi januari                 0   \n",
       "3                                               good                 3   \n",
       "4  worst everthey chang last problem still amazon...                -7   \n",
       "\n",
       "   sent_prediction_afinn                             clean_review_unstemmed  \n",
       "0                      1                     good need updates improvements  \n",
       "1                      0  worst bought ever battery draining like hell b...  \n",
       "2                      0                      get cash back already january  \n",
       "3                      1                                               good  \n",
       "4                      0  worst everthey changed last problem still amaz...  "
      ]
     },
     "execution_count": 106,
     "metadata": {},
     "output_type": "execute_result"
    }
   ],
   "source": [
    "reviews.head()"
   ]
  },
  {
   "cell_type": "code",
   "execution_count": 107,
   "metadata": {},
   "outputs": [],
   "source": [
    "reviews['sent_score_afinn'] = reviews.clean_review_unstemmed.apply(get_sentiment)"
   ]
  },
  {
   "cell_type": "code",
   "execution_count": 108,
   "metadata": {},
   "outputs": [],
   "source": [
    "#AFINN Prediction by setting the threshold to 0\n",
    "reviews['sent_prediction_afinn'] = \\\n",
    "reviews.sent_score_afinn.apply(lambda x:1 if x>0 else 0)"
   ]
  },
  {
   "cell_type": "code",
   "execution_count": 109,
   "metadata": {},
   "outputs": [
    {
     "data": {
      "text/plain": [
       "0.7465758091993185"
      ]
     },
     "execution_count": 109,
     "metadata": {},
     "output_type": "execute_result"
    }
   ],
   "source": [
    "accuracy_score(reviews.sentiment,reviews.sent_prediction_afinn)"
   ]
  },
  {
   "cell_type": "code",
   "execution_count": 110,
   "metadata": {},
   "outputs": [
    {
     "data": {
      "text/plain": [
       "array([[4962, 2750],\n",
       "       [ 969, 5994]], dtype=int64)"
      ]
     },
     "execution_count": 110,
     "metadata": {},
     "output_type": "execute_result"
    }
   ],
   "source": [
    "confusion_matrix(reviews.sentiment,reviews.sent_prediction_afinn)"
   ]
  },
  {
   "cell_type": "code",
   "execution_count": 111,
   "metadata": {},
   "outputs": [
    {
     "data": {
      "text/plain": [
       "0.7772402044293015"
      ]
     },
     "execution_count": 111,
     "metadata": {},
     "output_type": "execute_result"
    }
   ],
   "source": [
    "#AFINN PRediction by setting the threshold to 2\n",
    "reviews['sent_prediction_afinn'] = \\\n",
    "reviews.sent_score_afinn.apply(lambda x:1 if x>2 else 0)\n",
    "accuracy_score(reviews.sentiment,reviews.sent_prediction_afinn)"
   ]
  },
  {
   "cell_type": "markdown",
   "metadata": {},
   "source": [
    "### Sentiment Prediction Strategy 2: Using popular package - Vader"
   ]
  },
  {
   "cell_type": "code",
   "execution_count": 112,
   "metadata": {},
   "outputs": [],
   "source": [
    "from nltk.sentiment.vader import SentimentIntensityAnalyzer\n",
    "analyser = SentimentIntensityAnalyzer()"
   ]
  },
  {
   "cell_type": "code",
   "execution_count": 113,
   "metadata": {},
   "outputs": [],
   "source": [
    "def get_vader_sentiment(sent):\n",
    "    return analyser.polarity_scores(sent)['compound']"
   ]
  },
  {
   "cell_type": "code",
   "execution_count": 114,
   "metadata": {},
   "outputs": [],
   "source": [
    "reviews['sent_score_vader'] = reviews.review.apply(get_vader_sentiment)"
   ]
  },
  {
   "cell_type": "code",
   "execution_count": 115,
   "metadata": {},
   "outputs": [],
   "source": [
    "reviews['sent_prediction_vader'] = reviews.sent_score_vader.apply(lambda x:1 if x>0.3 else 0)"
   ]
  },
  {
   "cell_type": "code",
   "execution_count": 116,
   "metadata": {},
   "outputs": [
    {
     "data": {
      "text/plain": [
       "0.7990459965928449"
      ]
     },
     "execution_count": 116,
     "metadata": {},
     "output_type": "execute_result"
    }
   ],
   "source": [
    "accuracy_score(reviews.sentiment,reviews.sent_prediction_vader)"
   ]
  },
  {
   "cell_type": "code",
   "execution_count": 117,
   "metadata": {},
   "outputs": [
    {
     "data": {
      "text/html": [
       "<div>\n",
       "<style scoped>\n",
       "    .dataframe tbody tr th:only-of-type {\n",
       "        vertical-align: middle;\n",
       "    }\n",
       "\n",
       "    .dataframe tbody tr th {\n",
       "        vertical-align: top;\n",
       "    }\n",
       "\n",
       "    .dataframe thead th {\n",
       "        text-align: right;\n",
       "    }\n",
       "</style>\n",
       "<table border=\"1\" class=\"dataframe\">\n",
       "  <thead>\n",
       "    <tr style=\"text-align: right;\">\n",
       "      <th></th>\n",
       "      <th>sentiment</th>\n",
       "      <th>review</th>\n",
       "      <th>clean_review</th>\n",
       "      <th>sent_score_afinn</th>\n",
       "      <th>sent_prediction_afinn</th>\n",
       "      <th>clean_review_unstemmed</th>\n",
       "      <th>sent_score_vader</th>\n",
       "      <th>sent_prediction_vader</th>\n",
       "    </tr>\n",
       "  </thead>\n",
       "  <tbody>\n",
       "    <tr>\n",
       "      <th>0</th>\n",
       "      <td>1</td>\n",
       "      <td>Good but need updates and improvements</td>\n",
       "      <td>good need updat improv</td>\n",
       "      <td>3</td>\n",
       "      <td>1</td>\n",
       "      <td>good need updates improvements</td>\n",
       "      <td>0.5994</td>\n",
       "      <td>1</td>\n",
       "    </tr>\n",
       "    <tr>\n",
       "      <th>1</th>\n",
       "      <td>0</td>\n",
       "      <td>Worst mobile i have bought ever, Battery is dr...</td>\n",
       "      <td>worst bought ever batteri drain like hell back...</td>\n",
       "      <td>-8</td>\n",
       "      <td>0</td>\n",
       "      <td>worst bought ever battery draining like hell b...</td>\n",
       "      <td>-0.8720</td>\n",
       "      <td>0</td>\n",
       "    </tr>\n",
       "    <tr>\n",
       "      <th>2</th>\n",
       "      <td>1</td>\n",
       "      <td>when I will get my 10% cash back.... its alrea...</td>\n",
       "      <td>get cash back alreadi januari</td>\n",
       "      <td>0</td>\n",
       "      <td>0</td>\n",
       "      <td>get cash back already january</td>\n",
       "      <td>0.0000</td>\n",
       "      <td>0</td>\n",
       "    </tr>\n",
       "    <tr>\n",
       "      <th>3</th>\n",
       "      <td>1</td>\n",
       "      <td>Good</td>\n",
       "      <td>good</td>\n",
       "      <td>3</td>\n",
       "      <td>1</td>\n",
       "      <td>good</td>\n",
       "      <td>0.4404</td>\n",
       "      <td>1</td>\n",
       "    </tr>\n",
       "    <tr>\n",
       "      <th>4</th>\n",
       "      <td>0</td>\n",
       "      <td>The worst phone everThey have changed the last...</td>\n",
       "      <td>worst everthey chang last problem still amazon...</td>\n",
       "      <td>-7</td>\n",
       "      <td>0</td>\n",
       "      <td>worst everthey changed last problem still amaz...</td>\n",
       "      <td>-0.8289</td>\n",
       "      <td>0</td>\n",
       "    </tr>\n",
       "  </tbody>\n",
       "</table>\n",
       "</div>"
      ],
      "text/plain": [
       "   sentiment                                             review  \\\n",
       "0          1             Good but need updates and improvements   \n",
       "1          0  Worst mobile i have bought ever, Battery is dr...   \n",
       "2          1  when I will get my 10% cash back.... its alrea...   \n",
       "3          1                                               Good   \n",
       "4          0  The worst phone everThey have changed the last...   \n",
       "\n",
       "                                        clean_review  sent_score_afinn  \\\n",
       "0                             good need updat improv                 3   \n",
       "1  worst bought ever batteri drain like hell back...                -8   \n",
       "2                      get cash back alreadi januari                 0   \n",
       "3                                               good                 3   \n",
       "4  worst everthey chang last problem still amazon...                -7   \n",
       "\n",
       "   sent_prediction_afinn                             clean_review_unstemmed  \\\n",
       "0                      1                     good need updates improvements   \n",
       "1                      0  worst bought ever battery draining like hell b...   \n",
       "2                      0                      get cash back already january   \n",
       "3                      1                                               good   \n",
       "4                      0  worst everthey changed last problem still amaz...   \n",
       "\n",
       "   sent_score_vader  sent_prediction_vader  \n",
       "0            0.5994                      1  \n",
       "1           -0.8720                      0  \n",
       "2            0.0000                      0  \n",
       "3            0.4404                      1  \n",
       "4           -0.8289                      0  "
      ]
     },
     "execution_count": 117,
     "metadata": {},
     "output_type": "execute_result"
    }
   ],
   "source": [
    "reviews.head()"
   ]
  },
  {
   "cell_type": "markdown",
   "metadata": {},
   "source": [
    "- The predicted scores obtained from vader can be binary values or muli-class values\n",
    "- These vader predicted scores will henceforth be used as a label to make predictions on unseen data. These vader predicted scores will now be used as labels to train our model instead of the original sentiment scores which were arrived out of the ratings\n",
    "- By doing so we are eliminating the biases which exists in the sentiment values obtained from the ratings"
   ]
  },
  {
   "cell_type": "markdown",
   "metadata": {},
   "source": [
    "-Lets use the vader predicted scores to train our model and make predictions uisng:\n",
    " - Naive bayes\n",
    " - Logistic regression"
   ]
  },
  {
   "cell_type": "markdown",
   "metadata": {},
   "source": [
    "Steps:\n",
    "- Step1: Seperate out the X and y\n",
    "- Step2: Split into test and train\n",
    "- Step3: converting text to numbers (countvectorizer or tfidfvectorizer)\n",
    "         - Extract features and transform for the train set\n",
    "         - only transform for the test set\n",
    "- Step4: train the model\n",
    "- Step5: test and get the accuracy scores\n",
    "- Step6: Make predictions for an Input Review"
   ]
  },
  {
   "cell_type": "code",
   "execution_count": 118,
   "metadata": {},
   "outputs": [],
   "source": [
    "X_text = reviews.clean_review.values\n",
    "y = reviews.sent_prediction_vader.values"
   ]
  },
  {
   "cell_type": "code",
   "execution_count": 119,
   "metadata": {},
   "outputs": [],
   "source": [
    "from sklearn.model_selection import train_test_split\n",
    "X_train,X_test,y_train,y_test = train_test_split(X_text,y,test_size=0.20,\n",
    "                                                 random_state=42)"
   ]
  },
  {
   "cell_type": "code",
   "execution_count": 120,
   "metadata": {},
   "outputs": [],
   "source": [
    "count_vect = CountVectorizer(max_features=3500)"
   ]
  },
  {
   "cell_type": "code",
   "execution_count": 121,
   "metadata": {},
   "outputs": [],
   "source": [
    "#Extract the features which are only going to be used for training\n",
    "#Apply the transformation on those extracted features\n",
    "X_train = count_vect.fit_transform(X_train)"
   ]
  },
  {
   "cell_type": "code",
   "execution_count": 122,
   "metadata": {},
   "outputs": [],
   "source": [
    "#For the words used for training, apply the transformation on the test set\n",
    "#If there are new words in the test set, we are just ignoring them\n",
    "X_test = count_vect.transform(X_test)"
   ]
  },
  {
   "cell_type": "code",
   "execution_count": 123,
   "metadata": {},
   "outputs": [
    {
     "name": "stdout",
     "output_type": "stream",
     "text": [
      "(11740, 3500) (2935, 3500)\n"
     ]
    }
   ],
   "source": [
    "print(X_train.shape, X_test.shape)"
   ]
  },
  {
   "cell_type": "code",
   "execution_count": 124,
   "metadata": {},
   "outputs": [],
   "source": [
    "from sklearn.linear_model import LogisticRegression\n",
    "logreg = LogisticRegression()"
   ]
  },
  {
   "cell_type": "code",
   "execution_count": 125,
   "metadata": {},
   "outputs": [
    {
     "name": "stderr",
     "output_type": "stream",
     "text": [
      "C:\\Users\\Dell\\Anaconda3\\lib\\site-packages\\sklearn\\linear_model\\logistic.py:432: FutureWarning: Default solver will be changed to 'lbfgs' in 0.22. Specify a solver to silence this warning.\n",
      "  FutureWarning)\n"
     ]
    },
    {
     "data": {
      "text/plain": [
       "LogisticRegression(C=1.0, class_weight=None, dual=False, fit_intercept=True,\n",
       "                   intercept_scaling=1, l1_ratio=None, max_iter=100,\n",
       "                   multi_class='warn', n_jobs=None, penalty='l2',\n",
       "                   random_state=None, solver='warn', tol=0.0001, verbose=0,\n",
       "                   warm_start=False)"
      ]
     },
     "execution_count": 125,
     "metadata": {},
     "output_type": "execute_result"
    }
   ],
   "source": [
    "logreg.fit(X_train,y_train)"
   ]
  },
  {
   "cell_type": "code",
   "execution_count": 126,
   "metadata": {},
   "outputs": [],
   "source": [
    "y_pred = logreg.predict(X_test)"
   ]
  },
  {
   "cell_type": "code",
   "execution_count": 127,
   "metadata": {},
   "outputs": [],
   "source": [
    "from sklearn.metrics import accuracy_score, confusion_matrix"
   ]
  },
  {
   "cell_type": "code",
   "execution_count": 128,
   "metadata": {},
   "outputs": [
    {
     "data": {
      "text/plain": [
       "0.8752981260647359"
      ]
     },
     "execution_count": 128,
     "metadata": {},
     "output_type": "execute_result"
    }
   ],
   "source": [
    "accuracy_score(y_test,y_pred)"
   ]
  },
  {
   "cell_type": "code",
   "execution_count": 129,
   "metadata": {},
   "outputs": [],
   "source": [
    "#Make Predictions:\n",
    "review1 = \"This is a fantastic mobile really like it but the battery drains fast\"\n",
    "review2 = \"Camera is good but when I speak over phone continuously over long time it gets\\\n",
    "heated up\""
   ]
  },
  {
   "cell_type": "code",
   "execution_count": 130,
   "metadata": {},
   "outputs": [],
   "source": [
    "review = [review1,review2]"
   ]
  },
  {
   "cell_type": "code",
   "execution_count": 131,
   "metadata": {},
   "outputs": [],
   "source": [
    "c_review = list(map(clean_txt, review))"
   ]
  },
  {
   "cell_type": "code",
   "execution_count": 132,
   "metadata": {},
   "outputs": [],
   "source": [
    "X_test_new = count_vect.transform(c_review)"
   ]
  },
  {
   "cell_type": "code",
   "execution_count": 133,
   "metadata": {},
   "outputs": [],
   "source": [
    "y_test_pred_new = logreg.predict(X_test_new)"
   ]
  },
  {
   "cell_type": "code",
   "execution_count": 134,
   "metadata": {},
   "outputs": [
    {
     "data": {
      "text/plain": [
       "array([1, 1], dtype=int64)"
      ]
     },
     "execution_count": 134,
     "metadata": {},
     "output_type": "execute_result"
    }
   ],
   "source": [
    "y_test_pred_new"
   ]
  },
  {
   "cell_type": "code",
   "execution_count": 135,
   "metadata": {},
   "outputs": [],
   "source": [
    "from sklearn.naive_bayes import MultinomialNB"
   ]
  },
  {
   "cell_type": "code",
   "execution_count": 136,
   "metadata": {},
   "outputs": [],
   "source": [
    "nb = MultinomialNB()"
   ]
  },
  {
   "cell_type": "code",
   "execution_count": 137,
   "metadata": {
    "scrolled": true
   },
   "outputs": [
    {
     "data": {
      "text/plain": [
       "MultinomialNB(alpha=1.0, class_prior=None, fit_prior=True)"
      ]
     },
     "execution_count": 137,
     "metadata": {},
     "output_type": "execute_result"
    }
   ],
   "source": [
    "nb.fit(X_train,y_train)"
   ]
  },
  {
   "cell_type": "code",
   "execution_count": 138,
   "metadata": {},
   "outputs": [],
   "source": [
    "y_test_pred = nb.predict(X_test)"
   ]
  },
  {
   "cell_type": "code",
   "execution_count": 139,
   "metadata": {},
   "outputs": [
    {
     "data": {
      "text/plain": [
       "0.8354344122657581"
      ]
     },
     "execution_count": 139,
     "metadata": {},
     "output_type": "execute_result"
    }
   ],
   "source": [
    "accuracy_score(y_test, y_test_pred)"
   ]
  },
  {
   "cell_type": "code",
   "execution_count": 140,
   "metadata": {},
   "outputs": [],
   "source": [
    "y_test_pred_new = nb.predict(X_test_new)"
   ]
  },
  {
   "cell_type": "code",
   "execution_count": 141,
   "metadata": {},
   "outputs": [
    {
     "data": {
      "text/plain": [
       "array([1, 1], dtype=int64)"
      ]
     },
     "execution_count": 141,
     "metadata": {},
     "output_type": "execute_result"
    }
   ],
   "source": [
    "y_test_pred_new"
   ]
  },
  {
   "cell_type": "code",
   "execution_count": null,
   "metadata": {},
   "outputs": [],
   "source": []
  },
  {
   "cell_type": "code",
   "execution_count": null,
   "metadata": {},
   "outputs": [],
   "source": []
  },
  {
   "cell_type": "markdown",
   "metadata": {},
   "source": [
    "## To get the right number of clusters"
   ]
  },
  {
   "cell_type": "code",
   "execution_count": 142,
   "metadata": {},
   "outputs": [],
   "source": [
    "from sklearn.feature_extraction.text import TfidfVectorizer"
   ]
  },
  {
   "cell_type": "code",
   "execution_count": 143,
   "metadata": {},
   "outputs": [],
   "source": [
    "tfidf_vect = TfidfVectorizer(max_features = 2000)"
   ]
  },
  {
   "cell_type": "code",
   "execution_count": 144,
   "metadata": {},
   "outputs": [
    {
     "data": {
      "text/plain": [
       "<14675x2000 sparse matrix of type '<class 'numpy.float64'>'\n",
       "\twith 124807 stored elements in Compressed Sparse Row format>"
      ]
     },
     "execution_count": 144,
     "metadata": {},
     "output_type": "execute_result"
    }
   ],
   "source": [
    "X = tfidf_vect.fit_transform(X_text)\n",
    "X"
   ]
  },
  {
   "cell_type": "code",
   "execution_count": 145,
   "metadata": {},
   "outputs": [],
   "source": [
    "from sklearn.cluster import KMeans"
   ]
  },
  {
   "cell_type": "code",
   "execution_count": 146,
   "metadata": {},
   "outputs": [],
   "source": [
    "wcss = [] #to store the value of within sum of Squares or within cluster sum of squares\n",
    "for i in range(1,11):\n",
    "      #k-means++ Pick k-points in the dataset in random as the centeroid at the start of the algorithm\n",
    "      #This will result in the fewer number of iterations for centeroids to become static\n",
    "    kmeans = KMeans(n_clusters=i,init='k-means++',random_state=0)\n",
    "    kmeans.fit(X)\n",
    "    wcss.append(kmeans.inertia_) #intertia_ gives the WCSS value"
   ]
  },
  {
   "cell_type": "code",
   "execution_count": 147,
   "metadata": {},
   "outputs": [
    {
     "data": {
      "image/png": "[encoded data removed]",
      "text/plain": [
       "<Figure size 432x288 with 1 Axes>"
      ]
     },
     "metadata": {
      "needs_background": "light"
     },
     "output_type": "display_data"
    }
   ],
   "source": [
    "plt.plot(range(1,11),wcss)\n",
    "plt.title('The Elbow Method')\n",
    "plt.xlabel('Number of clusters')\n",
    "plt.ylabel('WCSS')\n",
    "plt.show()"
   ]
  },
  {
   "cell_type": "code",
   "execution_count": 148,
   "metadata": {},
   "outputs": [],
   "source": [
    "kmeans = KMeans(n_clusters =6,init ='k-means++', random_state = 0)\n",
    "labels= kmeans.fit_predict(X)"
   ]
  },
  {
   "cell_type": "code",
   "execution_count": 149,
   "metadata": {},
   "outputs": [],
   "source": [
    "from sklearn.metrics import silhouette_score"
   ]
  },
  {
   "cell_type": "code",
   "execution_count": 150,
   "metadata": {},
   "outputs": [
    {
     "data": {
      "text/plain": [
       "0.06479001096852452"
      ]
     },
     "execution_count": 150,
     "metadata": {},
     "output_type": "execute_result"
    }
   ],
   "source": [
    "silhouette_score(X,labels,random_state = 200)"
   ]
  },
  {
   "cell_type": "code",
   "execution_count": 151,
   "metadata": {},
   "outputs": [
    {
     "data": {
      "text/plain": [
       "4    11404\n",
       "0      917\n",
       "1      747\n",
       "5      707\n",
       "3      510\n",
       "2      390\n",
       "Name: cluster_predicted, dtype: int64"
      ]
     },
     "execution_count": 151,
     "metadata": {},
     "output_type": "execute_result"
    }
   ],
   "source": [
    "reviews['cluster_predicted'] = labels\n",
    "reviews['cluster_predicted'].value_counts()"
   ]
  },
  {
   "cell_type": "code",
   "execution_count": 152,
   "metadata": {},
   "outputs": [],
   "source": [
    "num_clusters = 6"
   ]
  },
  {
   "cell_type": "code",
   "execution_count": 153,
   "metadata": {},
   "outputs": [
    {
     "name": "stdout",
     "output_type": "stream",
     "text": [
      "Top 5 terms per cluster:\n",
      "Cluster 0:\n",
      " good\n",
      " one\n",
      " perform\n",
      " camera\n",
      " batteri\n",
      "Cluster 1:\n",
      " product\n",
      " good\n",
      " excel\n",
      " worst\n",
      " nice\n",
      "Cluster 2:\n",
      " bad\n",
      " camera\n",
      " batteri\n",
      " product\n",
      " qualiti\n",
      "Cluster 3:\n",
      " best\n",
      " price\n",
      " rang\n",
      " good\n",
      " camera\n",
      "Cluster 4:\n",
      " good\n",
      " batteri\n",
      " camera\n",
      " heat\n",
      " problem\n",
      "Cluster 5:\n",
      " nice\n",
      " product\n",
      " good\n",
      " one\n",
      " featur\n"
     ]
    }
   ],
   "source": [
    "print(\"Top 5 terms per cluster:\")\n",
    "order_centroids = kmeans.cluster_centers_.argsort()[:,::-1]\n",
    "terms = tfidf_vect.get_feature_names()\n",
    "for i in range(num_clusters):\n",
    "    print(\"Cluster %d:\" %i),\n",
    "    for ind in order_centroids[i, : 5]:\n",
    "        print(' %s' % terms[ind]),\n",
    "    print"
   ]
  },
  {
   "cell_type": "code",
   "execution_count": 154,
   "metadata": {},
   "outputs": [
    {
     "data": {
      "text/plain": [
       "<matplotlib.image.AxesImage at 0x1fb66351a58>"
      ]
     },
     "execution_count": 154,
     "metadata": {},
     "output_type": "execute_result"
    },
    {
     "data": {
      "image/png": "[encoded data removed]",
      "text/plain": [
       "<Figure size 432x288 with 1 Axes>"
      ]
     },
     "metadata": {
      "needs_background": "light"
     },
     "output_type": "display_data"
    }
   ],
   "source": [
    "group = reviews[reviews['cluster_predicted']==2]\n",
    "text = ' '.join(reviews['clean_review'])\n",
    "wc = WordCloud(background_color = 'white').generate(text)\n",
    "plt.imshow(wc)"
   ]
  },
  {
   "cell_type": "code",
   "execution_count": 155,
   "metadata": {},
   "outputs": [
    {
     "data": {
      "text/html": [
       "<div>\n",
       "<style scoped>\n",
       "    .dataframe tbody tr th:only-of-type {\n",
       "        vertical-align: middle;\n",
       "    }\n",
       "\n",
       "    .dataframe tbody tr th {\n",
       "        vertical-align: top;\n",
       "    }\n",
       "\n",
       "    .dataframe thead th {\n",
       "        text-align: right;\n",
       "    }\n",
       "</style>\n",
       "<table border=\"1\" class=\"dataframe\">\n",
       "  <thead>\n",
       "    <tr style=\"text-align: right;\">\n",
       "      <th></th>\n",
       "      <th>cluster_predicted</th>\n",
       "      <th>average_vader_score</th>\n",
       "    </tr>\n",
       "  </thead>\n",
       "  <tbody>\n",
       "    <tr>\n",
       "      <th>3</th>\n",
       "      <td>3</td>\n",
       "      <td>0.677280</td>\n",
       "    </tr>\n",
       "    <tr>\n",
       "      <th>5</th>\n",
       "      <td>5</td>\n",
       "      <td>0.463213</td>\n",
       "    </tr>\n",
       "    <tr>\n",
       "      <th>0</th>\n",
       "      <td>0</td>\n",
       "      <td>0.388027</td>\n",
       "    </tr>\n",
       "    <tr>\n",
       "      <th>1</th>\n",
       "      <td>1</td>\n",
       "      <td>0.257132</td>\n",
       "    </tr>\n",
       "    <tr>\n",
       "      <th>4</th>\n",
       "      <td>4</td>\n",
       "      <td>0.079761</td>\n",
       "    </tr>\n",
       "    <tr>\n",
       "      <th>2</th>\n",
       "      <td>2</td>\n",
       "      <td>-0.479932</td>\n",
       "    </tr>\n",
       "  </tbody>\n",
       "</table>\n",
       "</div>"
      ],
      "text/plain": [
       "   cluster_predicted  average_vader_score\n",
       "3                  3             0.677280\n",
       "5                  5             0.463213\n",
       "0                  0             0.388027\n",
       "1                  1             0.257132\n",
       "4                  4             0.079761\n",
       "2                  2            -0.479932"
      ]
     },
     "execution_count": 155,
     "metadata": {},
     "output_type": "execute_result"
    }
   ],
   "source": [
    "reviews.groupby('cluster_predicted').agg({'sent_score_vader':'mean'}).reset_index().\\\n",
    "rename(columns = {'sent_score_vader':'average_vader_score'}).\\\n",
    "sort_values(by = 'average_vader_score', ascending = False)"
   ]
  },
  {
   "cell_type": "code",
   "execution_count": 156,
   "metadata": {},
   "outputs": [
    {
     "data": {
      "text/plain": [
       "Index(['sentiment', 'review', 'clean_review', 'sent_score_afinn',\n",
       "       'sent_prediction_afinn', 'clean_review_unstemmed', 'sent_score_vader',\n",
       "       'sent_prediction_vader', 'cluster_predicted'],\n",
       "      dtype='object')"
      ]
     },
     "execution_count": 156,
     "metadata": {},
     "output_type": "execute_result"
    }
   ],
   "source": [
    "reviews.columns"
   ]
  },
  {
   "cell_type": "code",
   "execution_count": null,
   "metadata": {},
   "outputs": [],
   "source": []
  },
  {
   "cell_type": "markdown",
   "metadata": {},
   "source": [
    "## Task Related to Cosine Similarity"
   ]
  },
  {
   "cell_type": "markdown",
   "metadata": {},
   "source": [
    "1. Check the cosine similarity with the second and the third Amazon reviews\n",
    "2. For the second review of the lenevo k8 get the top 5 similar reviews\n",
    "3. For the review with the most number of words, find its similar review.\n",
    "4. For the review with the least vader compound score get the top 5 similar reviews.\n",
    "5. For each of the top 5 words in the entire cleaned corpus find the similar words."
   ]
  },
  {
   "cell_type": "code",
   "execution_count": 157,
   "metadata": {},
   "outputs": [],
   "source": [
    "from sklearn.metrics.pairwise import cosine_similarity\n",
    "#from sklearn.metrics.pairwise import cosine_similarity"
   ]
  },
  {
   "cell_type": "code",
   "execution_count": 158,
   "metadata": {},
   "outputs": [],
   "source": [
    "cs = cosine_similarity(X)\n",
    "#cs = cosine_similarity(X)"
   ]
  },
  {
   "cell_type": "code",
   "execution_count": 159,
   "metadata": {},
   "outputs": [
    {
     "data": {
      "text/plain": [
       "(14675, 14675)"
      ]
     },
     "execution_count": 159,
     "metadata": {},
     "output_type": "execute_result"
    }
   ],
   "source": [
    "cs.shape\n",
    "#cs.shape"
   ]
  },
  {
   "cell_type": "code",
   "execution_count": 160,
   "metadata": {},
   "outputs": [
    {
     "data": {
      "text/plain": [
       "0.0265094269170722"
      ]
     },
     "execution_count": 160,
     "metadata": {},
     "output_type": "execute_result"
    }
   ],
   "source": [
    "#1 Check the cosine similarity with the second and the third Amazon reviews\n",
    "cs[1,2]"
   ]
  },
  {
   "cell_type": "code",
   "execution_count": 161,
   "metadata": {},
   "outputs": [
    {
     "data": {
      "text/html": [
       "<div>\n",
       "<style scoped>\n",
       "    .dataframe tbody tr th:only-of-type {\n",
       "        vertical-align: middle;\n",
       "    }\n",
       "\n",
       "    .dataframe tbody tr th {\n",
       "        vertical-align: top;\n",
       "    }\n",
       "\n",
       "    .dataframe thead th {\n",
       "        text-align: right;\n",
       "    }\n",
       "</style>\n",
       "<table border=\"1\" class=\"dataframe\">\n",
       "  <thead>\n",
       "    <tr style=\"text-align: right;\">\n",
       "      <th></th>\n",
       "      <th>0</th>\n",
       "    </tr>\n",
       "  </thead>\n",
       "  <tbody>\n",
       "    <tr>\n",
       "      <th>0</th>\n",
       "      <td>I don't know about other piecesBut in my mobil...</td>\n",
       "    </tr>\n",
       "    <tr>\n",
       "      <th>1</th>\n",
       "      <td>8 hours to get full charge.All other good</td>\n",
       "    </tr>\n",
       "    <tr>\n",
       "      <th>2</th>\n",
       "      <td>Battery issue full charge 100% you have used o...</td>\n",
       "    </tr>\n",
       "    <tr>\n",
       "      <th>3</th>\n",
       "      <td>Battery issue it will take 5 hour to charge full</td>\n",
       "    </tr>\n",
       "    <tr>\n",
       "      <th>4</th>\n",
       "      <td>1. Battery Draining very fast.2. Charging take...</td>\n",
       "    </tr>\n",
       "  </tbody>\n",
       "</table>\n",
       "</div>"
      ],
      "text/plain": [
       "                                                   0\n",
       "0  I don't know about other piecesBut in my mobil...\n",
       "1          8 hours to get full charge.All other good\n",
       "2  Battery issue full charge 100% you have used o...\n",
       "3   Battery issue it will take 5 hour to charge full\n",
       "4  1. Battery Draining very fast.2. Charging take..."
      ]
     },
     "execution_count": 161,
     "metadata": {},
     "output_type": "execute_result"
    }
   ],
   "source": [
    "#2 For the second review of the lenevo k8 get the top 5 similar reviews\n",
    "pd.DataFrame(reviews.review.values[cs[1].argsort()[::-1][1:6]])\n",
    "\n",
    "#pd.DataFrame(reviews.review.values[cs[1].argsort()[::-1][1:6]])"
   ]
  },
  {
   "cell_type": "code",
   "execution_count": 163,
   "metadata": {},
   "outputs": [
    {
     "data": {
      "text/plain": [
       "7559"
      ]
     },
     "execution_count": 163,
     "metadata": {},
     "output_type": "execute_result"
    }
   ],
   "source": [
    "#3 For the review with the most number of words, find its similar review.\n",
    "longest_review_ind= list(reviews['review'].str.split().str.len().\n",
    "                        sort_values(ascending = False).head(1).index)[0]\n",
    "longest_review_ind\n",
    "\n",
    "#longest_review_ind= list(reviews['review'].str.split().str.len().sort_values(ascending = False).head(1).index)[0]"
   ]
  },
  {
   "cell_type": "code",
   "execution_count": 164,
   "metadata": {},
   "outputs": [
    {
     "data": {
      "text/plain": [
       "'What I didn\\'t like :This cell phone was running smooth till the time I started getting updates.After the recent updates , specially after theAndroid 8.0 , i.e. The Oreo updateThis model has come up with so many problems1. CALL CONNECTIVITY : I ain\\'t able to talk to someone on calls properly as it starts loosing the connectivity , or rather it\\'ll be like , I\\'m able to hear the person in talking to but the person on the other side isn\\'t able to hear anything I say ..its got so bad that every time I call someone up they hang up saying \"bro I\\'m not able to hear u rn , I\\'ll call u back later .\"2. HEATING ISSUES : you know what\\'s the amazing part ..this cell phones gets heat up ...even when its not in use \"woooww!\"I\\'m tried of this Heating issue , it gets to level where u can\\'t , literally... hold your cell...3. HANGING ISSUES: This cell has got me so crazy coz it hangs every now and then and lags performance ..They talk abt the high end processor in this cell ..I guess its \"just on paper\" stuff , and m not even able to use two app together , like Instagram and what\\'s app .And if I switch to musically or Snapchat , this cell just hates me then and goes black , \"i guess gotta talk to my cell abt it and settle it ! , Ryt!?\"4. CAMERA : (I guess I\\'ll end up listing all the aspects of this cell , anyway )Camera in this cell phone is GOOD , trust me on that , but it is when it wishes to be .Low light photographs are terrible.It keeps on loosing focus , every time.It sometimes doesn\\'t even start up .. And then i have to reboot it...5. VIDEO / PICTURE QUALITY : This cell phone\\'s video quality is too bad ...while u take it ...you\\'ll feel it\\'s good , but when u save it and seeIt\\'s all noisy and full of glitches\"As if I don\\'t have sufficient net and m seeing a YouTube video on 144 or 240 pixels\"6. BATTERY LIFE : ( okay I\\'ll stop on this point , coz honestly I never wrote such big reviews )So ... Battery life of this cell is pathetic guys ,Its so bad ..that it just lasts for 2 hrs 30 mins \\'80%\\' in use ....I can\\'t even carry it without a power bankCoz this cell looses its life so quick.On the standby mode itself .If I had an option of time and availability of cell phone (as my cell is already dead , loosing 56% of its battery in 1hr 15mins , and all I was using is a fitness app ) to attach few pictures of the section where battery usage is displayed ( I forgot what it\\'s called ) I would\\'ve shown u the standby usage ... It\\'s first in my \"major\" usage list using 55% of life....Battery life is the major issue I face rn , coz I don\\'t play games and .. now I don\\'t feel social sites that imp that they become my priority so when it gets heat up or lags / hangs I keep it aside and study or do somethin else , but calls and emergency texts or something imp need to be given priority ryt? But this cell doesn\\'t allow me to take it as it\\'s already displaying \"battery saver mode on\"*sigh .If you\\'ll did read this wholeeee thing , thanks Nd I\\'m sorry I don\\'t have the time to write down abt the good things in this cell phone , I\\'m sure you\\'ll find many other sources to find that out .FEW GOOD THINGS ARE:* If u know how to use your frnd (cell) it takes amazing pictures in day light , I love taking pictures though ..and this cell is way better than most other cell phones out there* It\\'s performance (before the update) was amazing and smooth I was able to switch between real quick . Again. ..better than most other phones* And many other stuff ...So I rated it three coz it\\'s eventually lacking everything , \"but I love my cell phone\" 😂I mean .. ik this cell is really good it\\'s just the unstable updates that have ruined it .'"
      ]
     },
     "execution_count": 164,
     "metadata": {},
     "output_type": "execute_result"
    }
   ],
   "source": [
    "reviews.review[longest_review_ind]\n",
    "\n",
    "#reviews.review[longest_review_ind]"
   ]
  },
  {
   "cell_type": "code",
   "execution_count": 166,
   "metadata": {},
   "outputs": [
    {
     "data": {
      "text/html": [
       "<div>\n",
       "<style scoped>\n",
       "    .dataframe tbody tr th:only-of-type {\n",
       "        vertical-align: middle;\n",
       "    }\n",
       "\n",
       "    .dataframe tbody tr th {\n",
       "        vertical-align: top;\n",
       "    }\n",
       "\n",
       "    .dataframe thead th {\n",
       "        text-align: right;\n",
       "    }\n",
       "</style>\n",
       "<table border=\"1\" class=\"dataframe\">\n",
       "  <thead>\n",
       "    <tr style=\"text-align: right;\">\n",
       "      <th></th>\n",
       "      <th>0</th>\n",
       "    </tr>\n",
       "  </thead>\n",
       "  <tbody>\n",
       "    <tr>\n",
       "      <th>0</th>\n",
       "      <td>Nice cell phone</td>\n",
       "    </tr>\n",
       "    <tr>\n",
       "      <th>1</th>\n",
       "      <td>Super cell phone</td>\n",
       "    </tr>\n",
       "    <tr>\n",
       "      <th>2</th>\n",
       "      <td>Cell phone is quite good but I am very disappo...</td>\n",
       "    </tr>\n",
       "    <tr>\n",
       "      <th>3</th>\n",
       "      <td>Varry bed cell phone in lenovo</td>\n",
       "    </tr>\n",
       "    <tr>\n",
       "      <th>4</th>\n",
       "      <td>This is absolutely amazing cell</td>\n",
       "    </tr>\n",
       "  </tbody>\n",
       "</table>\n",
       "</div>"
      ],
      "text/plain": [
       "                                                   0\n",
       "0                                    Nice cell phone\n",
       "1                                   Super cell phone\n",
       "2  Cell phone is quite good but I am very disappo...\n",
       "3                     Varry bed cell phone in lenovo\n",
       "4                    This is absolutely amazing cell"
      ]
     },
     "execution_count": 166,
     "metadata": {},
     "output_type": "execute_result"
    }
   ],
   "source": [
    "pd.DataFrame(reviews.review.values[cs[longest_review_ind].argsort()[::-1][1:6]])"
   ]
  },
  {
   "cell_type": "code",
   "execution_count": 167,
   "metadata": {},
   "outputs": [
    {
     "data": {
      "text/plain": [
       "8075"
      ]
     },
     "execution_count": 167,
     "metadata": {},
     "output_type": "execute_result"
    }
   ],
   "source": [
    "#4 For the review with the least vader compound score get the top 5 similar reviews.\n",
    "ind = reviews.sent_score_vader.sort_values().head(1).index[0]\n",
    "ind"
   ]
  },
  {
   "cell_type": "code",
   "execution_count": 169,
   "metadata": {},
   "outputs": [
    {
     "data": {
      "text/html": [
       "<div>\n",
       "<style scoped>\n",
       "    .dataframe tbody tr th:only-of-type {\n",
       "        vertical-align: middle;\n",
       "    }\n",
       "\n",
       "    .dataframe tbody tr th {\n",
       "        vertical-align: top;\n",
       "    }\n",
       "\n",
       "    .dataframe thead th {\n",
       "        text-align: right;\n",
       "    }\n",
       "</style>\n",
       "<table border=\"1\" class=\"dataframe\">\n",
       "  <thead>\n",
       "    <tr style=\"text-align: right;\">\n",
       "      <th></th>\n",
       "      <th>0</th>\n",
       "    </tr>\n",
       "  </thead>\n",
       "  <tbody>\n",
       "    <tr>\n",
       "      <th>0</th>\n",
       "      <td>Waste waste waste waste waste waste waste wast...</td>\n",
       "    </tr>\n",
       "    <tr>\n",
       "      <th>1</th>\n",
       "      <td>Waste</td>\n",
       "    </tr>\n",
       "    <tr>\n",
       "      <th>2</th>\n",
       "      <td>Paysa waste</td>\n",
       "    </tr>\n",
       "    <tr>\n",
       "      <th>3</th>\n",
       "      <td>Wast</td>\n",
       "    </tr>\n",
       "    <tr>\n",
       "      <th>4</th>\n",
       "      <td>waste</td>\n",
       "    </tr>\n",
       "  </tbody>\n",
       "</table>\n",
       "</div>"
      ],
      "text/plain": [
       "                                                   0\n",
       "0  Waste waste waste waste waste waste waste wast...\n",
       "1                                              Waste\n",
       "2                                        Paysa waste\n",
       "3                                               Wast\n",
       "4                                              waste"
      ]
     },
     "execution_count": 169,
     "metadata": {},
     "output_type": "execute_result"
    }
   ],
   "source": [
    "pd.DataFrame(reviews.review.values[cs[ind].argsort()[::-1][1:6]])"
   ]
  },
  {
   "cell_type": "code",
   "execution_count": 170,
   "metadata": {},
   "outputs": [
    {
     "data": {
      "text/html": [
       "<div>\n",
       "<style scoped>\n",
       "    .dataframe tbody tr th:only-of-type {\n",
       "        vertical-align: middle;\n",
       "    }\n",
       "\n",
       "    .dataframe tbody tr th {\n",
       "        vertical-align: top;\n",
       "    }\n",
       "\n",
       "    .dataframe thead th {\n",
       "        text-align: right;\n",
       "    }\n",
       "</style>\n",
       "<table border=\"1\" class=\"dataframe\">\n",
       "  <thead>\n",
       "    <tr style=\"text-align: right;\">\n",
       "      <th></th>\n",
       "      <th>words</th>\n",
       "      <th>freq</th>\n",
       "    </tr>\n",
       "  </thead>\n",
       "  <tbody>\n",
       "    <tr>\n",
       "      <th>0</th>\n",
       "      <td>good</td>\n",
       "      <td>5636</td>\n",
       "    </tr>\n",
       "    <tr>\n",
       "      <th>7</th>\n",
       "      <td>batteri</td>\n",
       "      <td>3178</td>\n",
       "    </tr>\n",
       "    <tr>\n",
       "      <th>138</th>\n",
       "      <td>camera</td>\n",
       "      <td>3160</td>\n",
       "    </tr>\n",
       "    <tr>\n",
       "      <th>110</th>\n",
       "      <td>product</td>\n",
       "      <td>2172</td>\n",
       "    </tr>\n",
       "    <tr>\n",
       "      <th>63</th>\n",
       "      <td>heat</td>\n",
       "      <td>1971</td>\n",
       "    </tr>\n",
       "  </tbody>\n",
       "</table>\n",
       "</div>"
      ],
      "text/plain": [
       "       words  freq\n",
       "0       good  5636\n",
       "7    batteri  3178\n",
       "138   camera  3160\n",
       "110  product  2172\n",
       "63      heat  1971"
      ]
     },
     "execution_count": 170,
     "metadata": {},
     "output_type": "execute_result"
    }
   ],
   "source": [
    "#5 For each of the top 5 words in the entire cleaned corpus find the similar words.\n",
    "top_5= df_dist.sort_values(by = 'freq',ascending = False).head()\n",
    "top_5"
   ]
  },
  {
   "cell_type": "code",
   "execution_count": 171,
   "metadata": {},
   "outputs": [],
   "source": [
    "def get_similar_words(input_word,sim_mat):\n",
    "    cos_vals = sim_mat[input_word].sort_values(ascending = False)\n",
    "    similar_words = cos_vals.drop(input_word).head(5)\n",
    "    return similar_words"
   ]
  },
  {
   "cell_type": "code",
   "execution_count": 172,
   "metadata": {},
   "outputs": [],
   "source": [
    "sim_words = cosine_similarity(X.toarray().T)\n",
    "sim_words_df = pd.DataFrame(sim_words, columns = tfidf_vect.get_feature_names(),\n",
    "                           index = tfidf_vect.get_feature_names())"
   ]
  },
  {
   "cell_type": "code",
   "execution_count": 173,
   "metadata": {},
   "outputs": [
    {
     "name": "stdout",
     "output_type": "stream",
     "text": [
      "Similar words for  good\n",
      "product    0.189032\n",
      "camera     0.158571\n",
      "batteri    0.131106\n",
      "qualiti    0.106857\n",
      "perform    0.099975\n",
      "Name: good, dtype: float64\n",
      "Similar words for  batteri\n",
      "backup    0.396076\n",
      "drain     0.335126\n",
      "life      0.234726\n",
      "fast      0.202743\n",
      "charg     0.184051\n",
      "Name: batteri, dtype: float64\n",
      "Similar words for  camera\n",
      "qualiti    0.320929\n",
      "dual       0.249262\n",
      "front      0.226644\n",
      "rear       0.186191\n",
      "batteri    0.164870\n",
      "Name: camera, dtype: float64\n",
      "Similar words for  product\n",
      "good      0.189032\n",
      "nice      0.118982\n",
      "buy       0.094974\n",
      "amazon    0.094070\n",
      "worst     0.092854\n",
      "Name: product, dtype: float64\n",
      "Similar words for  heat\n",
      "problem    0.332409\n",
      "issu       0.298350\n",
      "charg      0.220318\n",
      "get        0.192222\n",
      "much       0.165615\n",
      "Name: heat, dtype: float64\n"
     ]
    }
   ],
   "source": [
    "for word in top_5.words.values:\n",
    "    print(\"Similar words for \", word)\n",
    "    print(get_similar_words(word,sim_words_df))"
   ]
  },
  {
   "cell_type": "code",
   "execution_count": null,
   "metadata": {},
   "outputs": [],
   "source": []
  }
 ],
 "metadata": {
  "kernelspec": {
   "display_name": "Python 3",
   "language": "python",
   "name": "python3"
  },
  "language_info": {
   "codemirror_mode": {
    "name": "ipython",
    "version": 3
   },
   "file_extension": ".py",
   "mimetype": "text/x-python",
   "name": "python",
   "nbconvert_exporter": "python",
   "pygments_lexer": "ipython3",
   "version": "3.7.3"
  }
 },
 "nbformat": 4,
 "nbformat_minor": 2
}
